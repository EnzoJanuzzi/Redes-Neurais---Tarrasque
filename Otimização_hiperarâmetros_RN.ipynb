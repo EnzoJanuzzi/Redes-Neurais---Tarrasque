{
 "cells": [
  {
   "cell_type": "markdown",
   "metadata": {},
   "source": [
    "# Otimização de hiperparâmetros da Rede Neural usando o Optuna"
   ]
  },
  {
   "cell_type": "markdown",
   "metadata": {},
   "source": [
    "## Introdução:"
   ]
  },
  {
   "cell_type": "markdown",
   "metadata": {},
   "source": [
    "A partir do arquivo [Introdução](Introdução.ipynb) , foi possível identificar parâmetros e características das Features e dos Targets. A partir disso, iremos treinar uma Rede Neural MLP (Multi Layer Perceptron), com o uso do Pytorch, com diversas arquiteturas distintas, através do Optuna, para identificar os melhores hiperparâmetros para a previsão dos nossos Targets.\n",
    "\n",
    "As Redes Neurais funcionam a partir de Camadas de Neurônios, que recebem uma informação com um determinado peso e processa essa dado através de uma função de ativação e um viés, resultando num output que é passado para outro neurônio conectado ou final. As Redes Neurais possuem numeros variáveis de camadas e neurônios em cada camada. Dessa forma, sendo hiperparâmetros da arquitetura da nossa rede.\n",
    "\n",
    "Para isso, iremos usar o Optuna, que consegue calcular a métricas de diversas arquiteturas de Redes Neurais. Assim, escolhendo os hiperparâmetros que funcionam melhor para a predição dos nossos targets."
   ]
  },
  {
   "cell_type": "markdown",
   "metadata": {},
   "source": [
    "A métrica de erro usada é a Raiz do Erro Quadrático Médio **RMSE**, a qual calcula a raiz da média de diferença entre o valor predito com o real, penalizando grandes diferenças entre os valores (os chamados *outliers*). \n",
    "\n",
    "$$RMSE(y,ŷ) = \\sqrt{\\frac{1}{n} \\sum_{i=1}^{n} (y_i - ŷ_i)^2}\n",
    "\\tag{1}$$\n",
    "\n",
    "Em que $y$ é o valor real, $ŷ$ é o valor predito e $n$ é o número de exemplos"
   ]
  },
  {
   "cell_type": "markdown",
   "metadata": {},
   "source": [
    "## Importando os módulos necessários"
   ]
  },
  {
   "cell_type": "code",
   "execution_count": 20,
   "metadata": {},
   "outputs": [],
   "source": [
    "import os\n",
    "import tempfile\n",
    "import pandas as pd\n",
    "import random as rd\n",
    "import numpy as np\n",
    "\n",
    "import optuna\n",
    "import optuna.visualization as vis\n",
    "from optuna import load_study\n",
    "\n",
    "import torch\n",
    "import torch.nn as nn\n",
    "import torch.nn.functional as F\n",
    "import torch.optim as optim\n",
    "import torch.utils.data\n",
    "from torch.utils.data import TensorDataset, DataLoader\n",
    "\n",
    "from sklearn.model_selection import train_test_split\n",
    "from sklearn.preprocessing import MaxAbsScaler\n",
    "from sklearn.metrics import mean_squared_error\n",
    "from sklearn.dummy import DummyRegressor"
   ]
  },
  {
   "cell_type": "markdown",
   "metadata": {},
   "source": [
    "### Definindo as constantes do problema:"
   ]
  },
  {
   "cell_type": "code",
   "execution_count": 2,
   "metadata": {},
   "outputs": [],
   "source": [
    "DEVICE = torch.device(\"cpu\") # Sem GPU\n",
    "SEMENTE_ALEATORIA = 1249\n",
    "\n",
    "NUM_TARGETS = 2\n",
    "NUM_EPOCAS = 50\n",
    "\n",
    "TAMANHO_TESTE = 0.1\n",
    "TAMANHO_VALIDACAO = 0.1\n",
    "\n",
    "PACIENCIA = 10\n",
    "MIN_DELTA = 0.001 # Alteração mínima na perda para que se qualifique como melhora"
   ]
  },
  {
   "cell_type": "markdown",
   "metadata": {},
   "source": [
    "## Pré-processamento:"
   ]
  },
  {
   "cell_type": "markdown",
   "metadata": {},
   "source": [
    "Carregando o dataset e coletando as colunas que serão usadas como targets e como features:"
   ]
  },
  {
   "cell_type": "code",
   "execution_count": 3,
   "metadata": {},
   "outputs": [],
   "source": [
    "TARGET = [\"Storage_Efficiency_Percentage\",\n",
    "         \"GHG_Emission_Reduction_tCO2e\"]\n",
    "         \n",
    "FEATURES = [\n",
    "    \"Type_of_Renewable_Energy\",\n",
    "    \"Grid_Integration_Level\",\n",
    "    \"Funding_Sources\",\n",
    "    \"Installed_Capacity_MW\",\n",
    "    \"Energy_Production_MWh\",\n",
    "    \"Energy_Consumption_MWh\",\n",
    "    \"Initial_Investment_USD\",\n",
    "    \"Air_Pollution_Reduction_Index\",\n",
    "]"
   ]
  },
  {
   "cell_type": "code",
   "execution_count": 4,
   "metadata": {},
   "outputs": [
    {
     "data": {
      "text/html": [
       "<div>\n",
       "<style scoped>\n",
       "    .dataframe tbody tr th:only-of-type {\n",
       "        vertical-align: middle;\n",
       "    }\n",
       "\n",
       "    .dataframe tbody tr th {\n",
       "        vertical-align: top;\n",
       "    }\n",
       "\n",
       "    .dataframe thead th {\n",
       "        text-align: right;\n",
       "    }\n",
       "</style>\n",
       "<table border=\"1\" class=\"dataframe\">\n",
       "  <thead>\n",
       "    <tr style=\"text-align: right;\">\n",
       "      <th></th>\n",
       "      <th>Type_of_Renewable_Energy</th>\n",
       "      <th>Grid_Integration_Level</th>\n",
       "      <th>Funding_Sources</th>\n",
       "      <th>Installed_Capacity_MW</th>\n",
       "      <th>Energy_Production_MWh</th>\n",
       "      <th>Energy_Consumption_MWh</th>\n",
       "      <th>Initial_Investment_USD</th>\n",
       "      <th>Air_Pollution_Reduction_Index</th>\n",
       "      <th>Storage_Efficiency_Percentage</th>\n",
       "      <th>GHG_Emission_Reduction_tCO2e</th>\n",
       "    </tr>\n",
       "  </thead>\n",
       "  <tbody>\n",
       "    <tr>\n",
       "      <th>0</th>\n",
       "      <td>4</td>\n",
       "      <td>4</td>\n",
       "      <td>1</td>\n",
       "      <td>93.423205</td>\n",
       "      <td>103853.2206</td>\n",
       "      <td>248708.4892</td>\n",
       "      <td>4.732248e+08</td>\n",
       "      <td>81.742461</td>\n",
       "      <td>89.887562</td>\n",
       "      <td>6663.816572</td>\n",
       "    </tr>\n",
       "    <tr>\n",
       "      <th>1</th>\n",
       "      <td>4</td>\n",
       "      <td>4</td>\n",
       "      <td>2</td>\n",
       "      <td>590.468942</td>\n",
       "      <td>190223.0649</td>\n",
       "      <td>166104.1642</td>\n",
       "      <td>1.670697e+08</td>\n",
       "      <td>78.139042</td>\n",
       "      <td>84.403343</td>\n",
       "      <td>30656.049820</td>\n",
       "    </tr>\n",
       "    <tr>\n",
       "      <th>2</th>\n",
       "      <td>1</td>\n",
       "      <td>2</td>\n",
       "      <td>2</td>\n",
       "      <td>625.951142</td>\n",
       "      <td>266023.4824</td>\n",
       "      <td>424114.6308</td>\n",
       "      <td>8.463610e+07</td>\n",
       "      <td>8.461296</td>\n",
       "      <td>60.498249</td>\n",
       "      <td>1749.613759</td>\n",
       "    </tr>\n",
       "    <tr>\n",
       "      <th>3</th>\n",
       "      <td>1</td>\n",
       "      <td>3</td>\n",
       "      <td>2</td>\n",
       "      <td>779.998728</td>\n",
       "      <td>487039.5296</td>\n",
       "      <td>308337.7316</td>\n",
       "      <td>3.967690e+08</td>\n",
       "      <td>8.402441</td>\n",
       "      <td>86.897861</td>\n",
       "      <td>43233.237820</td>\n",
       "    </tr>\n",
       "    <tr>\n",
       "      <th>4</th>\n",
       "      <td>3</td>\n",
       "      <td>2</td>\n",
       "      <td>1</td>\n",
       "      <td>242.106837</td>\n",
       "      <td>482815.0856</td>\n",
       "      <td>360437.7705</td>\n",
       "      <td>3.574413e+07</td>\n",
       "      <td>28.822867</td>\n",
       "      <td>70.949351</td>\n",
       "      <td>14858.662760</td>\n",
       "    </tr>\n",
       "    <tr>\n",
       "      <th>...</th>\n",
       "      <td>...</td>\n",
       "      <td>...</td>\n",
       "      <td>...</td>\n",
       "      <td>...</td>\n",
       "      <td>...</td>\n",
       "      <td>...</td>\n",
       "      <td>...</td>\n",
       "      <td>...</td>\n",
       "      <td>...</td>\n",
       "      <td>...</td>\n",
       "    </tr>\n",
       "    <tr>\n",
       "      <th>14995</th>\n",
       "      <td>3</td>\n",
       "      <td>4</td>\n",
       "      <td>2</td>\n",
       "      <td>745.032555</td>\n",
       "      <td>280007.5738</td>\n",
       "      <td>230544.8268</td>\n",
       "      <td>3.484136e+08</td>\n",
       "      <td>78.923200</td>\n",
       "      <td>90.791405</td>\n",
       "      <td>25234.911810</td>\n",
       "    </tr>\n",
       "    <tr>\n",
       "      <th>14996</th>\n",
       "      <td>1</td>\n",
       "      <td>4</td>\n",
       "      <td>3</td>\n",
       "      <td>15.187023</td>\n",
       "      <td>377340.5803</td>\n",
       "      <td>358547.3589</td>\n",
       "      <td>2.560179e+08</td>\n",
       "      <td>54.982974</td>\n",
       "      <td>78.252040</td>\n",
       "      <td>15762.519790</td>\n",
       "    </tr>\n",
       "    <tr>\n",
       "      <th>14997</th>\n",
       "      <td>3</td>\n",
       "      <td>1</td>\n",
       "      <td>2</td>\n",
       "      <td>877.539059</td>\n",
       "      <td>480497.3920</td>\n",
       "      <td>214441.6719</td>\n",
       "      <td>1.300112e+08</td>\n",
       "      <td>43.915897</td>\n",
       "      <td>58.282928</td>\n",
       "      <td>44597.809410</td>\n",
       "    </tr>\n",
       "    <tr>\n",
       "      <th>14998</th>\n",
       "      <td>7</td>\n",
       "      <td>2</td>\n",
       "      <td>2</td>\n",
       "      <td>551.264716</td>\n",
       "      <td>436383.1694</td>\n",
       "      <td>137043.8713</td>\n",
       "      <td>3.334831e+08</td>\n",
       "      <td>4.877145</td>\n",
       "      <td>73.573666</td>\n",
       "      <td>34363.858000</td>\n",
       "    </tr>\n",
       "    <tr>\n",
       "      <th>14999</th>\n",
       "      <td>3</td>\n",
       "      <td>4</td>\n",
       "      <td>2</td>\n",
       "      <td>863.421803</td>\n",
       "      <td>314014.3005</td>\n",
       "      <td>124461.9178</td>\n",
       "      <td>2.989825e+08</td>\n",
       "      <td>50.559075</td>\n",
       "      <td>86.868893</td>\n",
       "      <td>27193.217600</td>\n",
       "    </tr>\n",
       "  </tbody>\n",
       "</table>\n",
       "<p>15000 rows × 10 columns</p>\n",
       "</div>"
      ],
      "text/plain": [
       "       Type_of_Renewable_Energy  Grid_Integration_Level  Funding_Sources  \\\n",
       "0                             4                       4                1   \n",
       "1                             4                       4                2   \n",
       "2                             1                       2                2   \n",
       "3                             1                       3                2   \n",
       "4                             3                       2                1   \n",
       "...                         ...                     ...              ...   \n",
       "14995                         3                       4                2   \n",
       "14996                         1                       4                3   \n",
       "14997                         3                       1                2   \n",
       "14998                         7                       2                2   \n",
       "14999                         3                       4                2   \n",
       "\n",
       "       Installed_Capacity_MW  Energy_Production_MWh  Energy_Consumption_MWh  \\\n",
       "0                  93.423205            103853.2206             248708.4892   \n",
       "1                 590.468942            190223.0649             166104.1642   \n",
       "2                 625.951142            266023.4824             424114.6308   \n",
       "3                 779.998728            487039.5296             308337.7316   \n",
       "4                 242.106837            482815.0856             360437.7705   \n",
       "...                      ...                    ...                     ...   \n",
       "14995             745.032555            280007.5738             230544.8268   \n",
       "14996              15.187023            377340.5803             358547.3589   \n",
       "14997             877.539059            480497.3920             214441.6719   \n",
       "14998             551.264716            436383.1694             137043.8713   \n",
       "14999             863.421803            314014.3005             124461.9178   \n",
       "\n",
       "       Initial_Investment_USD  Air_Pollution_Reduction_Index  \\\n",
       "0                4.732248e+08                      81.742461   \n",
       "1                1.670697e+08                      78.139042   \n",
       "2                8.463610e+07                       8.461296   \n",
       "3                3.967690e+08                       8.402441   \n",
       "4                3.574413e+07                      28.822867   \n",
       "...                       ...                            ...   \n",
       "14995            3.484136e+08                      78.923200   \n",
       "14996            2.560179e+08                      54.982974   \n",
       "14997            1.300112e+08                      43.915897   \n",
       "14998            3.334831e+08                       4.877145   \n",
       "14999            2.989825e+08                      50.559075   \n",
       "\n",
       "       Storage_Efficiency_Percentage  GHG_Emission_Reduction_tCO2e  \n",
       "0                          89.887562                   6663.816572  \n",
       "1                          84.403343                  30656.049820  \n",
       "2                          60.498249                   1749.613759  \n",
       "3                          86.897861                  43233.237820  \n",
       "4                          70.949351                  14858.662760  \n",
       "...                              ...                           ...  \n",
       "14995                      90.791405                  25234.911810  \n",
       "14996                      78.252040                  15762.519790  \n",
       "14997                      58.282928                  44597.809410  \n",
       "14998                      73.573666                  34363.858000  \n",
       "14999                      86.868893                  27193.217600  \n",
       "\n",
       "[15000 rows x 10 columns]"
      ]
     },
     "execution_count": 4,
     "metadata": {},
     "output_type": "execute_result"
    }
   ],
   "source": [
    "df_energia = pd.read_csv('energy_dataset_.csv')\n",
    "df_energia = df_energia.reindex(FEATURES + TARGET, axis=1)\n",
    "df_energia = df_energia.dropna()\n",
    "df_energia"
   ]
  },
  {
   "cell_type": "markdown",
   "metadata": {},
   "source": [
    "Dividindo os dados em treino, validação e teste, permitindo que a rede neural se ajuste aos dados de treino e seja otimizada para os dados de validação, evitando o *overfitting*:"
   ]
  },
  {
   "cell_type": "code",
   "execution_count": 5,
   "metadata": {},
   "outputs": [],
   "source": [
    "indices = df_energia.index\n",
    "indices_treino_val, indices_teste = train_test_split(\n",
    "    indices, test_size=TAMANHO_TESTE, random_state=SEMENTE_ALEATORIA\n",
    ")\n",
    "\n",
    "df_treino_val = df_energia.loc[indices_treino_val]\n",
    "df_teste = df_energia.loc[indices_teste]\n",
    "\n",
    "X_teste = df_teste.reindex(FEATURES, axis=1).values\n",
    "y_teste = df_teste.reindex(TARGET, axis=1).values"
   ]
  },
  {
   "cell_type": "code",
   "execution_count": 6,
   "metadata": {},
   "outputs": [],
   "source": [
    "indices = df_treino_val.index\n",
    "indices_treino, indices_val = train_test_split(\n",
    "    indices, test_size=TAMANHO_TESTE, random_state=SEMENTE_ALEATORIA\n",
    ")\n",
    "\n",
    "df_treino = df_energia.loc[indices_treino]\n",
    "df_val = df_energia.loc[indices_val]\n",
    "\n",
    "X_treino = df_treino.reindex(FEATURES, axis=1).values\n",
    "y_treino = df_treino.reindex(TARGET, axis=1).values\n",
    "\n",
    "X_val = df_val.reindex(FEATURES, axis=1).values\n",
    "y_val = df_val.reindex(TARGET, axis=1).values"
   ]
  },
  {
   "cell_type": "markdown",
   "metadata": {},
   "source": [
    "Fazendo uma normalização por Máximo Absoluto, ajustando aos dados de treino e transformando aos demais dados:\n"
   ]
  },
  {
   "cell_type": "code",
   "execution_count": 7,
   "metadata": {},
   "outputs": [],
   "source": [
    "scaler = MaxAbsScaler()\n",
    "\n",
    "# Para os valores de X\n",
    "\n",
    "scaler.fit(X_treino)\n",
    "\n",
    "X_treino = scaler.transform(X_treino)\n",
    "X_teste  = scaler.transform(X_teste)\n",
    "X_val = scaler.transform(X_val)\n",
    "\n",
    "# Para os valores de y:\n",
    "\n",
    "# Organizando em 2 dimensões para o PyTorch\n",
    "y_treino = y_treino.reshape(-1,2)\n",
    "y_teste  = y_teste.reshape(-1,2)\n",
    "y_val = y_val.reshape(-1,2)\n",
    "\n",
    "# Aplicando a normalização\n",
    "scaler.fit(y_treino) \n",
    "\n",
    "y_treino = scaler.transform(y_treino)\n",
    "y_teste  = scaler.transform(y_teste)\n",
    "y_val = scaler.transform(y_val)"
   ]
  },
  {
   "cell_type": "markdown",
   "metadata": {},
   "source": [
    "Convertendo os dados para Tensores, uma estrutura especial utilizada no módulo `Pytorch`:"
   ]
  },
  {
   "cell_type": "code",
   "execution_count": 8,
   "metadata": {},
   "outputs": [],
   "source": [
    "X_treino = torch.tensor(X_treino, dtype=torch.float32)\n",
    "y_treino = torch.tensor(y_treino, dtype=torch.float32)\n",
    "\n",
    "X_val = torch.tensor(X_val, dtype=torch.float32)\n",
    "y_val = torch.tensor(y_val, dtype=torch.float32)\n",
    "\n",
    "X_teste = torch.tensor(X_teste, dtype=torch.float32)\n",
    "y_teste = torch.tensor(y_teste, dtype=torch.float32)"
   ]
  },
  {
   "cell_type": "markdown",
   "metadata": {},
   "source": [
    "Agrupando os atributos e *targets* de cada conjunto, utilizando a biblioteca **TensorDataset**. Isso é necessário para o treinamento do modelo, permitindo prever ambos os *targets*, sendo que o processo será feito em **batches**, ou lotes, a fim de otimizar o modelo"
   ]
  },
  {
   "cell_type": "code",
   "execution_count": 9,
   "metadata": {},
   "outputs": [],
   "source": [
    "treino_dataset = TensorDataset(X_treino, y_treino)\n",
    "validacao_dataset = TensorDataset(X_val, y_val)\n",
    "teste_dataset = TensorDataset(X_teste, y_teste)"
   ]
  },
  {
   "cell_type": "markdown",
   "metadata": {},
   "source": [
    "## Otimização com Optuna:"
   ]
  },
  {
   "cell_type": "markdown",
   "metadata": {},
   "source": [
    "Para otimizar os hiperparâmetros da nossa rede neural, o Optuna precisa de um modelo que vai criar arquiteturas da MLP, podendo computar métricas com a função objetivo, buscando otimizar essa métrica. A função `define_model` serve para criar uma instância do modelo escolhido, a qual recebe um objeto tipo &ldquo;tentativa&rdquo; do `optuna`. "
   ]
  },
  {
   "cell_type": "markdown",
   "metadata": {},
   "source": [
    "### Definindo o modelo:"
   ]
  },
  {
   "cell_type": "markdown",
   "metadata": {},
   "source": [
    "Os valores dos argumentos podem ser sorteados com as funções `trial.suggest_int` (para números inteiros), `trial.suggest_float` (para números reais) e `trial.suggest_categorical` (para dados categóricos). Assim delimitamos nosso **espaço de busca** dos hiperparâmetros do nosso modelo, em que variamos o número de camadas e de neurônios por camada."
   ]
  },
  {
   "cell_type": "code",
   "execution_count": 10,
   "metadata": {},
   "outputs": [],
   "source": [
    "def define_model(trial):\n",
    "    n_camadas = trial.suggest_int(\"n_camadas\", 2, 5)\n",
    "    camadas = []\n",
    "\n",
    "    in_features = len(FEATURES)\n",
    "    for i in range(n_camadas):\n",
    "        out_features = trial.suggest_int(f\"n_neuronios{i}\", 2, 5)\n",
    "        camadas.append(nn.Linear(in_features, out_features))\n",
    "        camadas.append(nn.ReLU())\n",
    "        in_features = out_features\n",
    "\n",
    "    camadas.append(nn.Linear(in_features, NUM_TARGETS))\n",
    "    \n",
    "    return nn.Sequential(*camadas)"
   ]
  },
  {
   "cell_type": "markdown",
   "metadata": {},
   "source": [
    "### Criando a função objetivo:"
   ]
  },
  {
   "cell_type": "markdown",
   "metadata": {},
   "source": [
    "A **função objetivo** de um problema de otimização é a função que irá computar a nossa métrica de interesse. Neste caso, a métrica de interesse é a perda de validação do modelo, o qual é treinado ao longo das épocas e sofre Parada Antecipada, visando descobrir uma época adequada em que a perda deixa de diminuir. Aqui variou-se o otimizador usado, a taxa de aprendizado e o tamanho do batch para treinar os Dataloaders, sendo que o método `trial.should_prune()` verifica a perda a cada *trial* e passa pra próxima tentativa caso não haja mudança significativa"
   ]
  },
  {
   "cell_type": "code",
   "execution_count": 11,
   "metadata": {},
   "outputs": [],
   "source": [
    "def objective(trial):\n",
    "    #optuna.seed = SEMENTE_ALEATORIA\n",
    "    torch.manual_seed(SEMENTE_ALEATORIA)\n",
    "    rd.seed(SEMENTE_ALEATORIA)\n",
    "    np.random.seed(SEMENTE_ALEATORIA)\n",
    "\n",
    "    model = define_model(trial).to(DEVICE)    \n",
    "\n",
    "    nome_otimizador = trial.suggest_categorical(\"otimizador\", [\"Adam\", \"RMSprop\", \"SGD\" ])\n",
    "    lr = trial.suggest_float(\"lr\", 1e-4, 1e-1, log=True)\n",
    "    otimizador = getattr(optim, nome_otimizador)(model.parameters(), lr=lr)\n",
    "\n",
    "    batch_size = trial.suggest_categorical(\"batch_size\", [32, 64, 128])\n",
    "    treino_loader = DataLoader(treino_dataset, batch_size=batch_size, shuffle=True)\n",
    "    validacao_loader = DataLoader(validacao_dataset, batch_size=batch_size, shuffle=False)\n",
    "\n",
    "    melhor_loss = float(\"inf\")\n",
    "    min_epoch = 10\n",
    "    contador_tol = 0\n",
    "\n",
    "    print(f\"Trial {trial.number}\")\n",
    "\n",
    "    for epoch in range(NUM_EPOCAS):        \n",
    "        #modo de treinamento\n",
    "        model.train() \n",
    "\n",
    "        for batch_data, batch_target in treino_loader:\n",
    "            batch_data, batch_target = batch_data.to(DEVICE), batch_target.to(DEVICE)\n",
    "            \n",
    "            #Foward pass\n",
    "            output = model(batch_data)\n",
    "\n",
    "            #Zero Grad\n",
    "            otimizador.zero_grad()\n",
    "            \n",
    "            #Calculo da perda\n",
    "            loss = F.mse_loss(output, batch_target)\n",
    "\n",
    "            #Backpropagation\n",
    "            loss.backward()\n",
    "            \n",
    "            #Atualiza os parâmetros\n",
    "            otimizador.step()\n",
    "\n",
    "        # modo de validação\n",
    "        model.eval()\n",
    "        val_loss_acumulado = 0\n",
    "\n",
    "        with torch.no_grad():\n",
    "            for batch_data_val, batch_target_val in validacao_loader: \n",
    "                batch_data_val, batch_target_val = batch_data_val.to(DEVICE), batch_target_val.to(DEVICE)\n",
    "                output_val = model(batch_data_val)\n",
    "                val_loss_acumulado += F.mse_loss(output_val, batch_target_val, reduction='sum').item() # Soma das perdas\n",
    "\n",
    "            val_loss = val_loss_acumulado / len(validacao_loader.dataset)\n",
    "            \n",
    "        trial.report(val_loss, epoch)  \n",
    "        \n",
    "        if trial.should_prune():\n",
    "            raise optuna.exceptions.TrialPruned()\n",
    "\n",
    "        if epoch >= min_epoch:\n",
    "            # early stopping\n",
    "            if val_loss < (melhor_loss - MIN_DELTA):\n",
    "                melhor_loss = val_loss\n",
    "                contador_tol = 0\n",
    "    \n",
    "            else:\n",
    "                contador_tol += 1\n",
    "                if contador_tol >= PACIENCIA:\n",
    "                    print(f\"Parada Antecipada (Early Stopping) na época {epoch}.\")\n",
    "                    val_loss = melhor_loss\n",
    "                    break\n",
    "\n",
    "    print(f\"[Trial {trial.number} Final] Melhor Val Loss: {melhor_loss:.4f}\")\n",
    "        \n",
    "    return val_loss"
   ]
  },
  {
   "cell_type": "markdown",
   "metadata": {},
   "source": [
    "### Realizando o Optuna no HPC:"
   ]
  },
  {
   "cell_type": "markdown",
   "metadata": {},
   "source": [
    "A otimização em si é realizada criando um objeto de estudo com o `create_study`. O argumento `direction` deve conter a string `\"minimize\"` pois é um problema de minimização da perda, sendo que ele cria um armazenamento pro estudo\n",
    "\n",
    "O argumento `study_name` serve para darmos um nome ao processo de busca. O argumento `storage` é utilizado para salvar os resultados da busca em um arquivo de banco de dados. Finalmente, se o argumento `load_if_exists` for `True`, então o `optuna` irá checar se você já realizou um estudo de mesmo nome anteriormente, em caso positivo, o novo estudo será incorporado ao antigo."
   ]
  },
  {
   "cell_type": "code",
   "execution_count": 12,
   "metadata": {},
   "outputs": [
    {
     "name": "stderr",
     "output_type": "stream",
     "text": [
      "[I 2025-06-12 18:40:12,414] Using an existing study with name 'Hiperpârametros_Tarrasque_Optuna' instead of creating a new one.\n"
     ]
    }
   ],
   "source": [
    "NOME_DO_ESTUDO = \"Hiperpârametros_Tarrasque_Optuna\"\n",
    "\n",
    "study = optuna.create_study(\n",
    "    direction=\"minimize\", # analisar se o objetivo é maximizar ou minimizar\n",
    "    study_name=NOME_DO_ESTUDO,\n",
    "    storage=f\"sqlite:///{NOME_DO_ESTUDO}.db\",\n",
    "    load_if_exists=True\n",
    ")"
   ]
  },
  {
   "cell_type": "markdown",
   "metadata": {},
   "source": []
  },
  {
   "cell_type": "code",
   "execution_count": null,
   "metadata": {},
   "outputs": [],
   "source": [
    "study.optimize(objective, n_trials=100)"
   ]
  },
  {
   "cell_type": "markdown",
   "metadata": {},
   "source": [
    "### Obtendo os melhores parâmetros testados pelo Optuna"
   ]
  },
  {
   "cell_type": "code",
   "execution_count": 14,
   "metadata": {},
   "outputs": [
    {
     "name": "stdout",
     "output_type": "stream",
     "text": [
      "Número do melhor trial: 11\n",
      "Melhor valor: 0.1045363638136122\n",
      "Melhores hiperparâmetros:\n",
      "  n_camadas: 3\n",
      "  n_neuronios0: 4\n",
      "  n_neuronios1: 5\n",
      "  n_neuronios2: 5\n",
      "  otimizador: Adam\n",
      "  lr: 0.017405887505001036\n",
      "  batch_size: 64\n"
     ]
    }
   ],
   "source": [
    "melhor_trial = study.best_trial\n",
    "melhor_batch = study.best_params['batch_size']\n",
    "\n",
    "print(f\"Número do melhor trial: {melhor_trial.number}\")\n",
    "print(\"Melhor valor:\", study.best_value)\n",
    "print(\"Melhores hiperparâmetros:\")\n",
    "\n",
    "for key, value in study.best_params.items():\n",
    "    print(f\"  {key}: {value}\")"
   ]
  },
  {
   "cell_type": "markdown",
   "metadata": {},
   "source": [
    "### Plotando alguns dados da otimização de hiperparâmetros disponíveis pelo próprio módulo do Optuna"
   ]
  },
  {
   "cell_type": "code",
   "execution_count": 15,
   "metadata": {},
   "outputs": [
    {
     "data": {
      "application/vnd.plotly.v1+json": {
       "config": {
        "plotlyServerURL": "https://plot.ly"
       },
       "data": [
        {
         "mode": "markers",
         "name": "Objective Value",
         "type": "scatter",
         "x": [
          0,
          1,
          2,
          3,
          4,
          6,
          8,
          9,
          10,
          11,
          13,
          15,
          16,
          19,
          21,
          31,
          32,
          37,
          39,
          41,
          51,
          54,
          57,
          72,
          74,
          82,
          83,
          84,
          92,
          93,
          102,
          106,
          111,
          115,
          118,
          119,
          124,
          125,
          127,
          134,
          136,
          139,
          144,
          145,
          146,
          149,
          156,
          159
         ],
         "y": [
          0.10555692743372035,
          0.10510616739590962,
          0.10461668438381619,
          0.10460753158286766,
          0.10499064056961625,
          0.10453811671998765,
          0.10461316497237594,
          0.10493235804416515,
          0.10489376580273664,
          0.1045363638136122,
          0.1048669496289006,
          0.10460342707457365,
          0.1047265977329678,
          0.10458028780089484,
          0.1045800926067211,
          0.10458142037744875,
          0.1046492200869101,
          0.10459100370053892,
          0.10468903925683763,
          0.10458190441131592,
          0.10458229303359985,
          0.10460122055477566,
          0.1045718409396984,
          0.10458098318841723,
          0.1045829983110781,
          0.10458207196659512,
          0.10458250730125992,
          0.1045938065316942,
          0.10458244809397944,
          0.104586368755058,
          0.10458287715911865,
          0.10461881800934121,
          0.10461717415738989,
          0.1045900955023589,
          0.10458367100468388,
          0.10459387395117017,
          0.10458304524421692,
          0.10458261410395304,
          0.10459888917428475,
          0.10458338225329364,
          0.1045855418841044,
          0.10459017916961952,
          0.10458293128896642,
          0.1045825594884378,
          0.10459650878553037,
          0.1045873565144009,
          0.10458432334440726,
          0.10459018852975634
         ]
        },
        {
         "mode": "lines",
         "name": "Best Value",
         "type": "scatter",
         "x": [
          0,
          1,
          2,
          3,
          4,
          5,
          6,
          7,
          8,
          9,
          10,
          11,
          12,
          13,
          14,
          15,
          16,
          17,
          18,
          19,
          20,
          21,
          22,
          23,
          24,
          25,
          26,
          27,
          28,
          29,
          30,
          31,
          32,
          33,
          34,
          35,
          36,
          37,
          38,
          39,
          40,
          41,
          42,
          43,
          44,
          45,
          46,
          47,
          48,
          49,
          50,
          51,
          52,
          53,
          54,
          55,
          56,
          57,
          58,
          59,
          60,
          61,
          62,
          63,
          64,
          65,
          66,
          67,
          68,
          69,
          70,
          71,
          72,
          73,
          74,
          75,
          76,
          77,
          78,
          79,
          80,
          81,
          82,
          83,
          84,
          85,
          86,
          87,
          88,
          89,
          90,
          91,
          92,
          93,
          94,
          95,
          96,
          97,
          98,
          99,
          100,
          101,
          102,
          103,
          104,
          105,
          106,
          107,
          108,
          109,
          110,
          111,
          112,
          113,
          114,
          115,
          116,
          117,
          118,
          119,
          120,
          121,
          122,
          123,
          124,
          125,
          126,
          127,
          128,
          129,
          130,
          131,
          132,
          133,
          134,
          135,
          136,
          137,
          138,
          139,
          140,
          141,
          142,
          143,
          144,
          145,
          146,
          147,
          148,
          149,
          150,
          151,
          152,
          153,
          154,
          155,
          156,
          157,
          158,
          159,
          160,
          161,
          162,
          163,
          164
         ],
         "y": [
          0.10555692743372035,
          0.10510616739590962,
          0.10461668438381619,
          0.10460753158286766,
          0.10460753158286766,
          0.10460753158286766,
          0.10453811671998765,
          0.10453811671998765,
          0.10453811671998765,
          0.10453811671998765,
          0.10453811671998765,
          0.1045363638136122,
          0.1045363638136122,
          0.1045363638136122,
          0.1045363638136122,
          0.1045363638136122,
          0.1045363638136122,
          0.1045363638136122,
          0.1045363638136122,
          0.1045363638136122,
          0.1045363638136122,
          0.1045363638136122,
          0.1045363638136122,
          0.1045363638136122,
          0.1045363638136122,
          0.1045363638136122,
          0.1045363638136122,
          0.1045363638136122,
          0.1045363638136122,
          0.1045363638136122,
          0.1045363638136122,
          0.1045363638136122,
          0.1045363638136122,
          0.1045363638136122,
          0.1045363638136122,
          0.1045363638136122,
          0.1045363638136122,
          0.1045363638136122,
          0.1045363638136122,
          0.1045363638136122,
          0.1045363638136122,
          0.1045363638136122,
          0.1045363638136122,
          0.1045363638136122,
          0.1045363638136122,
          0.1045363638136122,
          0.1045363638136122,
          0.1045363638136122,
          0.1045363638136122,
          0.1045363638136122,
          0.1045363638136122,
          0.1045363638136122,
          0.1045363638136122,
          0.1045363638136122,
          0.1045363638136122,
          0.1045363638136122,
          0.1045363638136122,
          0.1045363638136122,
          0.1045363638136122,
          0.1045363638136122,
          0.1045363638136122,
          0.1045363638136122,
          0.1045363638136122,
          0.1045363638136122,
          0.1045363638136122,
          0.1045363638136122,
          0.1045363638136122,
          0.1045363638136122,
          0.1045363638136122,
          0.1045363638136122,
          0.1045363638136122,
          0.1045363638136122,
          0.1045363638136122,
          0.1045363638136122,
          0.1045363638136122,
          0.1045363638136122,
          0.1045363638136122,
          0.1045363638136122,
          0.1045363638136122,
          0.1045363638136122,
          0.1045363638136122,
          0.1045363638136122,
          0.1045363638136122,
          0.1045363638136122,
          0.1045363638136122,
          0.1045363638136122,
          0.1045363638136122,
          0.1045363638136122,
          0.1045363638136122,
          0.1045363638136122,
          0.1045363638136122,
          0.1045363638136122,
          0.1045363638136122,
          0.1045363638136122,
          0.1045363638136122,
          0.1045363638136122,
          0.1045363638136122,
          0.1045363638136122,
          0.1045363638136122,
          0.1045363638136122,
          0.1045363638136122,
          0.1045363638136122,
          0.1045363638136122,
          0.1045363638136122,
          0.1045363638136122,
          0.1045363638136122,
          0.1045363638136122,
          0.1045363638136122,
          0.1045363638136122,
          0.1045363638136122,
          0.1045363638136122,
          0.1045363638136122,
          0.1045363638136122,
          0.1045363638136122,
          0.1045363638136122,
          0.1045363638136122,
          0.1045363638136122,
          0.1045363638136122,
          0.1045363638136122,
          0.1045363638136122,
          0.1045363638136122,
          0.1045363638136122,
          0.1045363638136122,
          0.1045363638136122,
          0.1045363638136122,
          0.1045363638136122,
          0.1045363638136122,
          0.1045363638136122,
          0.1045363638136122,
          0.1045363638136122,
          0.1045363638136122,
          0.1045363638136122,
          0.1045363638136122,
          0.1045363638136122,
          0.1045363638136122,
          0.1045363638136122,
          0.1045363638136122,
          0.1045363638136122,
          0.1045363638136122,
          0.1045363638136122,
          0.1045363638136122,
          0.1045363638136122,
          0.1045363638136122,
          0.1045363638136122,
          0.1045363638136122,
          0.1045363638136122,
          0.1045363638136122,
          0.1045363638136122,
          0.1045363638136122,
          0.1045363638136122,
          0.1045363638136122,
          0.1045363638136122,
          0.1045363638136122,
          0.1045363638136122,
          0.1045363638136122,
          0.1045363638136122,
          0.1045363638136122,
          0.1045363638136122,
          0.1045363638136122,
          0.1045363638136122,
          0.1045363638136122,
          0.1045363638136122,
          0.1045363638136122,
          0.1045363638136122,
          0.1045363638136122
         ]
        },
        {
         "marker": {
          "color": "#cccccc"
         },
         "mode": "markers",
         "name": "Infeasible Trial",
         "showlegend": false,
         "type": "scatter",
         "x": [],
         "y": []
        }
       ],
       "layout": {
        "template": {
         "data": {
          "bar": [
           {
            "error_x": {
             "color": "#2a3f5f"
            },
            "error_y": {
             "color": "#2a3f5f"
            },
            "marker": {
             "line": {
              "color": "#E5ECF6",
              "width": 0.5
             },
             "pattern": {
              "fillmode": "overlay",
              "size": 10,
              "solidity": 0.2
             }
            },
            "type": "bar"
           }
          ],
          "barpolar": [
           {
            "marker": {
             "line": {
              "color": "#E5ECF6",
              "width": 0.5
             },
             "pattern": {
              "fillmode": "overlay",
              "size": 10,
              "solidity": 0.2
             }
            },
            "type": "barpolar"
           }
          ],
          "carpet": [
           {
            "aaxis": {
             "endlinecolor": "#2a3f5f",
             "gridcolor": "white",
             "linecolor": "white",
             "minorgridcolor": "white",
             "startlinecolor": "#2a3f5f"
            },
            "baxis": {
             "endlinecolor": "#2a3f5f",
             "gridcolor": "white",
             "linecolor": "white",
             "minorgridcolor": "white",
             "startlinecolor": "#2a3f5f"
            },
            "type": "carpet"
           }
          ],
          "choropleth": [
           {
            "colorbar": {
             "outlinewidth": 0,
             "ticks": ""
            },
            "type": "choropleth"
           }
          ],
          "contour": [
           {
            "colorbar": {
             "outlinewidth": 0,
             "ticks": ""
            },
            "colorscale": [
             [
              0,
              "#0d0887"
             ],
             [
              0.1111111111111111,
              "#46039f"
             ],
             [
              0.2222222222222222,
              "#7201a8"
             ],
             [
              0.3333333333333333,
              "#9c179e"
             ],
             [
              0.4444444444444444,
              "#bd3786"
             ],
             [
              0.5555555555555556,
              "#d8576b"
             ],
             [
              0.6666666666666666,
              "#ed7953"
             ],
             [
              0.7777777777777778,
              "#fb9f3a"
             ],
             [
              0.8888888888888888,
              "#fdca26"
             ],
             [
              1,
              "#f0f921"
             ]
            ],
            "type": "contour"
           }
          ],
          "contourcarpet": [
           {
            "colorbar": {
             "outlinewidth": 0,
             "ticks": ""
            },
            "type": "contourcarpet"
           }
          ],
          "heatmap": [
           {
            "colorbar": {
             "outlinewidth": 0,
             "ticks": ""
            },
            "colorscale": [
             [
              0,
              "#0d0887"
             ],
             [
              0.1111111111111111,
              "#46039f"
             ],
             [
              0.2222222222222222,
              "#7201a8"
             ],
             [
              0.3333333333333333,
              "#9c179e"
             ],
             [
              0.4444444444444444,
              "#bd3786"
             ],
             [
              0.5555555555555556,
              "#d8576b"
             ],
             [
              0.6666666666666666,
              "#ed7953"
             ],
             [
              0.7777777777777778,
              "#fb9f3a"
             ],
             [
              0.8888888888888888,
              "#fdca26"
             ],
             [
              1,
              "#f0f921"
             ]
            ],
            "type": "heatmap"
           }
          ],
          "heatmapgl": [
           {
            "colorbar": {
             "outlinewidth": 0,
             "ticks": ""
            },
            "colorscale": [
             [
              0,
              "#0d0887"
             ],
             [
              0.1111111111111111,
              "#46039f"
             ],
             [
              0.2222222222222222,
              "#7201a8"
             ],
             [
              0.3333333333333333,
              "#9c179e"
             ],
             [
              0.4444444444444444,
              "#bd3786"
             ],
             [
              0.5555555555555556,
              "#d8576b"
             ],
             [
              0.6666666666666666,
              "#ed7953"
             ],
             [
              0.7777777777777778,
              "#fb9f3a"
             ],
             [
              0.8888888888888888,
              "#fdca26"
             ],
             [
              1,
              "#f0f921"
             ]
            ],
            "type": "heatmapgl"
           }
          ],
          "histogram": [
           {
            "marker": {
             "pattern": {
              "fillmode": "overlay",
              "size": 10,
              "solidity": 0.2
             }
            },
            "type": "histogram"
           }
          ],
          "histogram2d": [
           {
            "colorbar": {
             "outlinewidth": 0,
             "ticks": ""
            },
            "colorscale": [
             [
              0,
              "#0d0887"
             ],
             [
              0.1111111111111111,
              "#46039f"
             ],
             [
              0.2222222222222222,
              "#7201a8"
             ],
             [
              0.3333333333333333,
              "#9c179e"
             ],
             [
              0.4444444444444444,
              "#bd3786"
             ],
             [
              0.5555555555555556,
              "#d8576b"
             ],
             [
              0.6666666666666666,
              "#ed7953"
             ],
             [
              0.7777777777777778,
              "#fb9f3a"
             ],
             [
              0.8888888888888888,
              "#fdca26"
             ],
             [
              1,
              "#f0f921"
             ]
            ],
            "type": "histogram2d"
           }
          ],
          "histogram2dcontour": [
           {
            "colorbar": {
             "outlinewidth": 0,
             "ticks": ""
            },
            "colorscale": [
             [
              0,
              "#0d0887"
             ],
             [
              0.1111111111111111,
              "#46039f"
             ],
             [
              0.2222222222222222,
              "#7201a8"
             ],
             [
              0.3333333333333333,
              "#9c179e"
             ],
             [
              0.4444444444444444,
              "#bd3786"
             ],
             [
              0.5555555555555556,
              "#d8576b"
             ],
             [
              0.6666666666666666,
              "#ed7953"
             ],
             [
              0.7777777777777778,
              "#fb9f3a"
             ],
             [
              0.8888888888888888,
              "#fdca26"
             ],
             [
              1,
              "#f0f921"
             ]
            ],
            "type": "histogram2dcontour"
           }
          ],
          "mesh3d": [
           {
            "colorbar": {
             "outlinewidth": 0,
             "ticks": ""
            },
            "type": "mesh3d"
           }
          ],
          "parcoords": [
           {
            "line": {
             "colorbar": {
              "outlinewidth": 0,
              "ticks": ""
             }
            },
            "type": "parcoords"
           }
          ],
          "pie": [
           {
            "automargin": true,
            "type": "pie"
           }
          ],
          "scatter": [
           {
            "fillpattern": {
             "fillmode": "overlay",
             "size": 10,
             "solidity": 0.2
            },
            "type": "scatter"
           }
          ],
          "scatter3d": [
           {
            "line": {
             "colorbar": {
              "outlinewidth": 0,
              "ticks": ""
             }
            },
            "marker": {
             "colorbar": {
              "outlinewidth": 0,
              "ticks": ""
             }
            },
            "type": "scatter3d"
           }
          ],
          "scattercarpet": [
           {
            "marker": {
             "colorbar": {
              "outlinewidth": 0,
              "ticks": ""
             }
            },
            "type": "scattercarpet"
           }
          ],
          "scattergeo": [
           {
            "marker": {
             "colorbar": {
              "outlinewidth": 0,
              "ticks": ""
             }
            },
            "type": "scattergeo"
           }
          ],
          "scattergl": [
           {
            "marker": {
             "colorbar": {
              "outlinewidth": 0,
              "ticks": ""
             }
            },
            "type": "scattergl"
           }
          ],
          "scattermapbox": [
           {
            "marker": {
             "colorbar": {
              "outlinewidth": 0,
              "ticks": ""
             }
            },
            "type": "scattermapbox"
           }
          ],
          "scatterpolar": [
           {
            "marker": {
             "colorbar": {
              "outlinewidth": 0,
              "ticks": ""
             }
            },
            "type": "scatterpolar"
           }
          ],
          "scatterpolargl": [
           {
            "marker": {
             "colorbar": {
              "outlinewidth": 0,
              "ticks": ""
             }
            },
            "type": "scatterpolargl"
           }
          ],
          "scatterternary": [
           {
            "marker": {
             "colorbar": {
              "outlinewidth": 0,
              "ticks": ""
             }
            },
            "type": "scatterternary"
           }
          ],
          "surface": [
           {
            "colorbar": {
             "outlinewidth": 0,
             "ticks": ""
            },
            "colorscale": [
             [
              0,
              "#0d0887"
             ],
             [
              0.1111111111111111,
              "#46039f"
             ],
             [
              0.2222222222222222,
              "#7201a8"
             ],
             [
              0.3333333333333333,
              "#9c179e"
             ],
             [
              0.4444444444444444,
              "#bd3786"
             ],
             [
              0.5555555555555556,
              "#d8576b"
             ],
             [
              0.6666666666666666,
              "#ed7953"
             ],
             [
              0.7777777777777778,
              "#fb9f3a"
             ],
             [
              0.8888888888888888,
              "#fdca26"
             ],
             [
              1,
              "#f0f921"
             ]
            ],
            "type": "surface"
           }
          ],
          "table": [
           {
            "cells": {
             "fill": {
              "color": "#EBF0F8"
             },
             "line": {
              "color": "white"
             }
            },
            "header": {
             "fill": {
              "color": "#C8D4E3"
             },
             "line": {
              "color": "white"
             }
            },
            "type": "table"
           }
          ]
         },
         "layout": {
          "annotationdefaults": {
           "arrowcolor": "#2a3f5f",
           "arrowhead": 0,
           "arrowwidth": 1
          },
          "autotypenumbers": "strict",
          "coloraxis": {
           "colorbar": {
            "outlinewidth": 0,
            "ticks": ""
           }
          },
          "colorscale": {
           "diverging": [
            [
             0,
             "#8e0152"
            ],
            [
             0.1,
             "#c51b7d"
            ],
            [
             0.2,
             "#de77ae"
            ],
            [
             0.3,
             "#f1b6da"
            ],
            [
             0.4,
             "#fde0ef"
            ],
            [
             0.5,
             "#f7f7f7"
            ],
            [
             0.6,
             "#e6f5d0"
            ],
            [
             0.7,
             "#b8e186"
            ],
            [
             0.8,
             "#7fbc41"
            ],
            [
             0.9,
             "#4d9221"
            ],
            [
             1,
             "#276419"
            ]
           ],
           "sequential": [
            [
             0,
             "#0d0887"
            ],
            [
             0.1111111111111111,
             "#46039f"
            ],
            [
             0.2222222222222222,
             "#7201a8"
            ],
            [
             0.3333333333333333,
             "#9c179e"
            ],
            [
             0.4444444444444444,
             "#bd3786"
            ],
            [
             0.5555555555555556,
             "#d8576b"
            ],
            [
             0.6666666666666666,
             "#ed7953"
            ],
            [
             0.7777777777777778,
             "#fb9f3a"
            ],
            [
             0.8888888888888888,
             "#fdca26"
            ],
            [
             1,
             "#f0f921"
            ]
           ],
           "sequentialminus": [
            [
             0,
             "#0d0887"
            ],
            [
             0.1111111111111111,
             "#46039f"
            ],
            [
             0.2222222222222222,
             "#7201a8"
            ],
            [
             0.3333333333333333,
             "#9c179e"
            ],
            [
             0.4444444444444444,
             "#bd3786"
            ],
            [
             0.5555555555555556,
             "#d8576b"
            ],
            [
             0.6666666666666666,
             "#ed7953"
            ],
            [
             0.7777777777777778,
             "#fb9f3a"
            ],
            [
             0.8888888888888888,
             "#fdca26"
            ],
            [
             1,
             "#f0f921"
            ]
           ]
          },
          "colorway": [
           "#636efa",
           "#EF553B",
           "#00cc96",
           "#ab63fa",
           "#FFA15A",
           "#19d3f3",
           "#FF6692",
           "#B6E880",
           "#FF97FF",
           "#FECB52"
          ],
          "font": {
           "color": "#2a3f5f"
          },
          "geo": {
           "bgcolor": "white",
           "lakecolor": "white",
           "landcolor": "#E5ECF6",
           "showlakes": true,
           "showland": true,
           "subunitcolor": "white"
          },
          "hoverlabel": {
           "align": "left"
          },
          "hovermode": "closest",
          "mapbox": {
           "style": "light"
          },
          "paper_bgcolor": "white",
          "plot_bgcolor": "#E5ECF6",
          "polar": {
           "angularaxis": {
            "gridcolor": "white",
            "linecolor": "white",
            "ticks": ""
           },
           "bgcolor": "#E5ECF6",
           "radialaxis": {
            "gridcolor": "white",
            "linecolor": "white",
            "ticks": ""
           }
          },
          "scene": {
           "xaxis": {
            "backgroundcolor": "#E5ECF6",
            "gridcolor": "white",
            "gridwidth": 2,
            "linecolor": "white",
            "showbackground": true,
            "ticks": "",
            "zerolinecolor": "white"
           },
           "yaxis": {
            "backgroundcolor": "#E5ECF6",
            "gridcolor": "white",
            "gridwidth": 2,
            "linecolor": "white",
            "showbackground": true,
            "ticks": "",
            "zerolinecolor": "white"
           },
           "zaxis": {
            "backgroundcolor": "#E5ECF6",
            "gridcolor": "white",
            "gridwidth": 2,
            "linecolor": "white",
            "showbackground": true,
            "ticks": "",
            "zerolinecolor": "white"
           }
          },
          "shapedefaults": {
           "line": {
            "color": "#2a3f5f"
           }
          },
          "ternary": {
           "aaxis": {
            "gridcolor": "white",
            "linecolor": "white",
            "ticks": ""
           },
           "baxis": {
            "gridcolor": "white",
            "linecolor": "white",
            "ticks": ""
           },
           "bgcolor": "#E5ECF6",
           "caxis": {
            "gridcolor": "white",
            "linecolor": "white",
            "ticks": ""
           }
          },
          "title": {
           "x": 0.05
          },
          "xaxis": {
           "automargin": true,
           "gridcolor": "white",
           "linecolor": "white",
           "ticks": "",
           "title": {
            "standoff": 15
           },
           "zerolinecolor": "white",
           "zerolinewidth": 2
          },
          "yaxis": {
           "automargin": true,
           "gridcolor": "white",
           "linecolor": "white",
           "ticks": "",
           "title": {
            "standoff": 15
           },
           "zerolinecolor": "white",
           "zerolinewidth": 2
          }
         }
        },
        "title": {
         "text": "Optimization History Plot"
        },
        "xaxis": {
         "title": {
          "text": "Trial"
         }
        },
        "yaxis": {
         "title": {
          "text": "Objective Value"
         }
        }
       }
      }
     },
     "metadata": {},
     "output_type": "display_data"
    },
    {
     "data": {
      "application/vnd.plotly.v1+json": {
       "config": {
        "plotlyServerURL": "https://plot.ly"
       },
       "data": [
        {
         "cliponaxis": false,
         "hovertemplate": [
          "batch_size (CategoricalDistribution): 0.016050570279138497<extra></extra>",
          "otimizador (CategoricalDistribution): 0.039818118754269105<extra></extra>",
          "n_neuronios0 (IntDistribution): 0.05490996309523469<extra></extra>",
          "n_camadas (IntDistribution): 0.0836669655712251<extra></extra>",
          "n_neuronios1 (IntDistribution): 0.14158491547868954<extra></extra>",
          "lr (FloatDistribution): 0.6639694668214431<extra></extra>"
         ],
         "name": "Objective Value",
         "orientation": "h",
         "text": [
          "0.02",
          "0.04",
          "0.05",
          "0.08",
          "0.14",
          "0.66"
         ],
         "textposition": "outside",
         "type": "bar",
         "x": [
          0.016050570279138497,
          0.039818118754269105,
          0.05490996309523469,
          0.0836669655712251,
          0.14158491547868954,
          0.6639694668214431
         ],
         "y": [
          "batch_size",
          "otimizador",
          "n_neuronios0",
          "n_camadas",
          "n_neuronios1",
          "lr"
         ]
        }
       ],
       "layout": {
        "template": {
         "data": {
          "bar": [
           {
            "error_x": {
             "color": "#2a3f5f"
            },
            "error_y": {
             "color": "#2a3f5f"
            },
            "marker": {
             "line": {
              "color": "#E5ECF6",
              "width": 0.5
             },
             "pattern": {
              "fillmode": "overlay",
              "size": 10,
              "solidity": 0.2
             }
            },
            "type": "bar"
           }
          ],
          "barpolar": [
           {
            "marker": {
             "line": {
              "color": "#E5ECF6",
              "width": 0.5
             },
             "pattern": {
              "fillmode": "overlay",
              "size": 10,
              "solidity": 0.2
             }
            },
            "type": "barpolar"
           }
          ],
          "carpet": [
           {
            "aaxis": {
             "endlinecolor": "#2a3f5f",
             "gridcolor": "white",
             "linecolor": "white",
             "minorgridcolor": "white",
             "startlinecolor": "#2a3f5f"
            },
            "baxis": {
             "endlinecolor": "#2a3f5f",
             "gridcolor": "white",
             "linecolor": "white",
             "minorgridcolor": "white",
             "startlinecolor": "#2a3f5f"
            },
            "type": "carpet"
           }
          ],
          "choropleth": [
           {
            "colorbar": {
             "outlinewidth": 0,
             "ticks": ""
            },
            "type": "choropleth"
           }
          ],
          "contour": [
           {
            "colorbar": {
             "outlinewidth": 0,
             "ticks": ""
            },
            "colorscale": [
             [
              0,
              "#0d0887"
             ],
             [
              0.1111111111111111,
              "#46039f"
             ],
             [
              0.2222222222222222,
              "#7201a8"
             ],
             [
              0.3333333333333333,
              "#9c179e"
             ],
             [
              0.4444444444444444,
              "#bd3786"
             ],
             [
              0.5555555555555556,
              "#d8576b"
             ],
             [
              0.6666666666666666,
              "#ed7953"
             ],
             [
              0.7777777777777778,
              "#fb9f3a"
             ],
             [
              0.8888888888888888,
              "#fdca26"
             ],
             [
              1,
              "#f0f921"
             ]
            ],
            "type": "contour"
           }
          ],
          "contourcarpet": [
           {
            "colorbar": {
             "outlinewidth": 0,
             "ticks": ""
            },
            "type": "contourcarpet"
           }
          ],
          "heatmap": [
           {
            "colorbar": {
             "outlinewidth": 0,
             "ticks": ""
            },
            "colorscale": [
             [
              0,
              "#0d0887"
             ],
             [
              0.1111111111111111,
              "#46039f"
             ],
             [
              0.2222222222222222,
              "#7201a8"
             ],
             [
              0.3333333333333333,
              "#9c179e"
             ],
             [
              0.4444444444444444,
              "#bd3786"
             ],
             [
              0.5555555555555556,
              "#d8576b"
             ],
             [
              0.6666666666666666,
              "#ed7953"
             ],
             [
              0.7777777777777778,
              "#fb9f3a"
             ],
             [
              0.8888888888888888,
              "#fdca26"
             ],
             [
              1,
              "#f0f921"
             ]
            ],
            "type": "heatmap"
           }
          ],
          "heatmapgl": [
           {
            "colorbar": {
             "outlinewidth": 0,
             "ticks": ""
            },
            "colorscale": [
             [
              0,
              "#0d0887"
             ],
             [
              0.1111111111111111,
              "#46039f"
             ],
             [
              0.2222222222222222,
              "#7201a8"
             ],
             [
              0.3333333333333333,
              "#9c179e"
             ],
             [
              0.4444444444444444,
              "#bd3786"
             ],
             [
              0.5555555555555556,
              "#d8576b"
             ],
             [
              0.6666666666666666,
              "#ed7953"
             ],
             [
              0.7777777777777778,
              "#fb9f3a"
             ],
             [
              0.8888888888888888,
              "#fdca26"
             ],
             [
              1,
              "#f0f921"
             ]
            ],
            "type": "heatmapgl"
           }
          ],
          "histogram": [
           {
            "marker": {
             "pattern": {
              "fillmode": "overlay",
              "size": 10,
              "solidity": 0.2
             }
            },
            "type": "histogram"
           }
          ],
          "histogram2d": [
           {
            "colorbar": {
             "outlinewidth": 0,
             "ticks": ""
            },
            "colorscale": [
             [
              0,
              "#0d0887"
             ],
             [
              0.1111111111111111,
              "#46039f"
             ],
             [
              0.2222222222222222,
              "#7201a8"
             ],
             [
              0.3333333333333333,
              "#9c179e"
             ],
             [
              0.4444444444444444,
              "#bd3786"
             ],
             [
              0.5555555555555556,
              "#d8576b"
             ],
             [
              0.6666666666666666,
              "#ed7953"
             ],
             [
              0.7777777777777778,
              "#fb9f3a"
             ],
             [
              0.8888888888888888,
              "#fdca26"
             ],
             [
              1,
              "#f0f921"
             ]
            ],
            "type": "histogram2d"
           }
          ],
          "histogram2dcontour": [
           {
            "colorbar": {
             "outlinewidth": 0,
             "ticks": ""
            },
            "colorscale": [
             [
              0,
              "#0d0887"
             ],
             [
              0.1111111111111111,
              "#46039f"
             ],
             [
              0.2222222222222222,
              "#7201a8"
             ],
             [
              0.3333333333333333,
              "#9c179e"
             ],
             [
              0.4444444444444444,
              "#bd3786"
             ],
             [
              0.5555555555555556,
              "#d8576b"
             ],
             [
              0.6666666666666666,
              "#ed7953"
             ],
             [
              0.7777777777777778,
              "#fb9f3a"
             ],
             [
              0.8888888888888888,
              "#fdca26"
             ],
             [
              1,
              "#f0f921"
             ]
            ],
            "type": "histogram2dcontour"
           }
          ],
          "mesh3d": [
           {
            "colorbar": {
             "outlinewidth": 0,
             "ticks": ""
            },
            "type": "mesh3d"
           }
          ],
          "parcoords": [
           {
            "line": {
             "colorbar": {
              "outlinewidth": 0,
              "ticks": ""
             }
            },
            "type": "parcoords"
           }
          ],
          "pie": [
           {
            "automargin": true,
            "type": "pie"
           }
          ],
          "scatter": [
           {
            "fillpattern": {
             "fillmode": "overlay",
             "size": 10,
             "solidity": 0.2
            },
            "type": "scatter"
           }
          ],
          "scatter3d": [
           {
            "line": {
             "colorbar": {
              "outlinewidth": 0,
              "ticks": ""
             }
            },
            "marker": {
             "colorbar": {
              "outlinewidth": 0,
              "ticks": ""
             }
            },
            "type": "scatter3d"
           }
          ],
          "scattercarpet": [
           {
            "marker": {
             "colorbar": {
              "outlinewidth": 0,
              "ticks": ""
             }
            },
            "type": "scattercarpet"
           }
          ],
          "scattergeo": [
           {
            "marker": {
             "colorbar": {
              "outlinewidth": 0,
              "ticks": ""
             }
            },
            "type": "scattergeo"
           }
          ],
          "scattergl": [
           {
            "marker": {
             "colorbar": {
              "outlinewidth": 0,
              "ticks": ""
             }
            },
            "type": "scattergl"
           }
          ],
          "scattermapbox": [
           {
            "marker": {
             "colorbar": {
              "outlinewidth": 0,
              "ticks": ""
             }
            },
            "type": "scattermapbox"
           }
          ],
          "scatterpolar": [
           {
            "marker": {
             "colorbar": {
              "outlinewidth": 0,
              "ticks": ""
             }
            },
            "type": "scatterpolar"
           }
          ],
          "scatterpolargl": [
           {
            "marker": {
             "colorbar": {
              "outlinewidth": 0,
              "ticks": ""
             }
            },
            "type": "scatterpolargl"
           }
          ],
          "scatterternary": [
           {
            "marker": {
             "colorbar": {
              "outlinewidth": 0,
              "ticks": ""
             }
            },
            "type": "scatterternary"
           }
          ],
          "surface": [
           {
            "colorbar": {
             "outlinewidth": 0,
             "ticks": ""
            },
            "colorscale": [
             [
              0,
              "#0d0887"
             ],
             [
              0.1111111111111111,
              "#46039f"
             ],
             [
              0.2222222222222222,
              "#7201a8"
             ],
             [
              0.3333333333333333,
              "#9c179e"
             ],
             [
              0.4444444444444444,
              "#bd3786"
             ],
             [
              0.5555555555555556,
              "#d8576b"
             ],
             [
              0.6666666666666666,
              "#ed7953"
             ],
             [
              0.7777777777777778,
              "#fb9f3a"
             ],
             [
              0.8888888888888888,
              "#fdca26"
             ],
             [
              1,
              "#f0f921"
             ]
            ],
            "type": "surface"
           }
          ],
          "table": [
           {
            "cells": {
             "fill": {
              "color": "#EBF0F8"
             },
             "line": {
              "color": "white"
             }
            },
            "header": {
             "fill": {
              "color": "#C8D4E3"
             },
             "line": {
              "color": "white"
             }
            },
            "type": "table"
           }
          ]
         },
         "layout": {
          "annotationdefaults": {
           "arrowcolor": "#2a3f5f",
           "arrowhead": 0,
           "arrowwidth": 1
          },
          "autotypenumbers": "strict",
          "coloraxis": {
           "colorbar": {
            "outlinewidth": 0,
            "ticks": ""
           }
          },
          "colorscale": {
           "diverging": [
            [
             0,
             "#8e0152"
            ],
            [
             0.1,
             "#c51b7d"
            ],
            [
             0.2,
             "#de77ae"
            ],
            [
             0.3,
             "#f1b6da"
            ],
            [
             0.4,
             "#fde0ef"
            ],
            [
             0.5,
             "#f7f7f7"
            ],
            [
             0.6,
             "#e6f5d0"
            ],
            [
             0.7,
             "#b8e186"
            ],
            [
             0.8,
             "#7fbc41"
            ],
            [
             0.9,
             "#4d9221"
            ],
            [
             1,
             "#276419"
            ]
           ],
           "sequential": [
            [
             0,
             "#0d0887"
            ],
            [
             0.1111111111111111,
             "#46039f"
            ],
            [
             0.2222222222222222,
             "#7201a8"
            ],
            [
             0.3333333333333333,
             "#9c179e"
            ],
            [
             0.4444444444444444,
             "#bd3786"
            ],
            [
             0.5555555555555556,
             "#d8576b"
            ],
            [
             0.6666666666666666,
             "#ed7953"
            ],
            [
             0.7777777777777778,
             "#fb9f3a"
            ],
            [
             0.8888888888888888,
             "#fdca26"
            ],
            [
             1,
             "#f0f921"
            ]
           ],
           "sequentialminus": [
            [
             0,
             "#0d0887"
            ],
            [
             0.1111111111111111,
             "#46039f"
            ],
            [
             0.2222222222222222,
             "#7201a8"
            ],
            [
             0.3333333333333333,
             "#9c179e"
            ],
            [
             0.4444444444444444,
             "#bd3786"
            ],
            [
             0.5555555555555556,
             "#d8576b"
            ],
            [
             0.6666666666666666,
             "#ed7953"
            ],
            [
             0.7777777777777778,
             "#fb9f3a"
            ],
            [
             0.8888888888888888,
             "#fdca26"
            ],
            [
             1,
             "#f0f921"
            ]
           ]
          },
          "colorway": [
           "#636efa",
           "#EF553B",
           "#00cc96",
           "#ab63fa",
           "#FFA15A",
           "#19d3f3",
           "#FF6692",
           "#B6E880",
           "#FF97FF",
           "#FECB52"
          ],
          "font": {
           "color": "#2a3f5f"
          },
          "geo": {
           "bgcolor": "white",
           "lakecolor": "white",
           "landcolor": "#E5ECF6",
           "showlakes": true,
           "showland": true,
           "subunitcolor": "white"
          },
          "hoverlabel": {
           "align": "left"
          },
          "hovermode": "closest",
          "mapbox": {
           "style": "light"
          },
          "paper_bgcolor": "white",
          "plot_bgcolor": "#E5ECF6",
          "polar": {
           "angularaxis": {
            "gridcolor": "white",
            "linecolor": "white",
            "ticks": ""
           },
           "bgcolor": "#E5ECF6",
           "radialaxis": {
            "gridcolor": "white",
            "linecolor": "white",
            "ticks": ""
           }
          },
          "scene": {
           "xaxis": {
            "backgroundcolor": "#E5ECF6",
            "gridcolor": "white",
            "gridwidth": 2,
            "linecolor": "white",
            "showbackground": true,
            "ticks": "",
            "zerolinecolor": "white"
           },
           "yaxis": {
            "backgroundcolor": "#E5ECF6",
            "gridcolor": "white",
            "gridwidth": 2,
            "linecolor": "white",
            "showbackground": true,
            "ticks": "",
            "zerolinecolor": "white"
           },
           "zaxis": {
            "backgroundcolor": "#E5ECF6",
            "gridcolor": "white",
            "gridwidth": 2,
            "linecolor": "white",
            "showbackground": true,
            "ticks": "",
            "zerolinecolor": "white"
           }
          },
          "shapedefaults": {
           "line": {
            "color": "#2a3f5f"
           }
          },
          "ternary": {
           "aaxis": {
            "gridcolor": "white",
            "linecolor": "white",
            "ticks": ""
           },
           "baxis": {
            "gridcolor": "white",
            "linecolor": "white",
            "ticks": ""
           },
           "bgcolor": "#E5ECF6",
           "caxis": {
            "gridcolor": "white",
            "linecolor": "white",
            "ticks": ""
           }
          },
          "title": {
           "x": 0.05
          },
          "xaxis": {
           "automargin": true,
           "gridcolor": "white",
           "linecolor": "white",
           "ticks": "",
           "title": {
            "standoff": 15
           },
           "zerolinecolor": "white",
           "zerolinewidth": 2
          },
          "yaxis": {
           "automargin": true,
           "gridcolor": "white",
           "linecolor": "white",
           "ticks": "",
           "title": {
            "standoff": 15
           },
           "zerolinecolor": "white",
           "zerolinewidth": 2
          }
         }
        },
        "title": {
         "text": "Hyperparameter Importances"
        },
        "xaxis": {
         "title": {
          "text": "Hyperparameter Importance"
         }
        },
        "yaxis": {
         "title": {
          "text": "Hyperparameter"
         }
        }
       }
      }
     },
     "metadata": {},
     "output_type": "display_data"
    }
   ],
   "source": [
    "# Histórico da otimização (melhor valor a cada trial)\n",
    "vis.plot_optimization_history(study).show()\n",
    "\n",
    "# Importância de cada hiperparâmetro\n",
    "vis.plot_param_importances(study).show()"
   ]
  },
  {
   "cell_type": "markdown",
   "metadata": {},
   "source": []
  },
  {
   "cell_type": "markdown",
   "metadata": {},
   "source": [
    "## Testando o melhor modelo:"
   ]
  },
  {
   "cell_type": "markdown",
   "metadata": {},
   "source": [
    "### Carregando o estudo salvo:"
   ]
  },
  {
   "cell_type": "code",
   "execution_count": 16,
   "metadata": {},
   "outputs": [
    {
     "data": {
      "text/html": [
       "<div>\n",
       "<style scoped>\n",
       "    .dataframe tbody tr th:only-of-type {\n",
       "        vertical-align: middle;\n",
       "    }\n",
       "\n",
       "    .dataframe tbody tr th {\n",
       "        vertical-align: top;\n",
       "    }\n",
       "\n",
       "    .dataframe thead th {\n",
       "        text-align: right;\n",
       "    }\n",
       "</style>\n",
       "<table border=\"1\" class=\"dataframe\">\n",
       "  <thead>\n",
       "    <tr style=\"text-align: right;\">\n",
       "      <th></th>\n",
       "      <th>number</th>\n",
       "      <th>value</th>\n",
       "      <th>datetime_start</th>\n",
       "      <th>datetime_complete</th>\n",
       "      <th>duration</th>\n",
       "      <th>params_batch_size</th>\n",
       "      <th>params_lr</th>\n",
       "      <th>params_n_camadas</th>\n",
       "      <th>params_n_neuronios0</th>\n",
       "      <th>params_n_neuronios1</th>\n",
       "      <th>params_n_neuronios2</th>\n",
       "      <th>params_n_neuronios3</th>\n",
       "      <th>params_n_neuronios4</th>\n",
       "      <th>params_otimizador</th>\n",
       "      <th>state</th>\n",
       "    </tr>\n",
       "  </thead>\n",
       "  <tbody>\n",
       "    <tr>\n",
       "      <th>0</th>\n",
       "      <td>0</td>\n",
       "      <td>0.105557</td>\n",
       "      <td>2025-06-10 17:55:06.048530</td>\n",
       "      <td>2025-06-10 18:11:57.539304</td>\n",
       "      <td>0 days 00:16:51.490774</td>\n",
       "      <td>128</td>\n",
       "      <td>0.000501</td>\n",
       "      <td>2</td>\n",
       "      <td>3</td>\n",
       "      <td>2</td>\n",
       "      <td>NaN</td>\n",
       "      <td>NaN</td>\n",
       "      <td>NaN</td>\n",
       "      <td>SGD</td>\n",
       "      <td>COMPLETE</td>\n",
       "    </tr>\n",
       "    <tr>\n",
       "      <th>1</th>\n",
       "      <td>1</td>\n",
       "      <td>0.105106</td>\n",
       "      <td>2025-06-10 18:11:57.613850</td>\n",
       "      <td>2025-06-10 18:26:09.177093</td>\n",
       "      <td>0 days 00:14:11.563243</td>\n",
       "      <td>64</td>\n",
       "      <td>0.001081</td>\n",
       "      <td>5</td>\n",
       "      <td>2</td>\n",
       "      <td>3</td>\n",
       "      <td>2.0</td>\n",
       "      <td>2.0</td>\n",
       "      <td>4.0</td>\n",
       "      <td>SGD</td>\n",
       "      <td>COMPLETE</td>\n",
       "    </tr>\n",
       "    <tr>\n",
       "      <th>2</th>\n",
       "      <td>2</td>\n",
       "      <td>0.104617</td>\n",
       "      <td>2025-06-10 18:26:09.264462</td>\n",
       "      <td>2025-06-10 18:26:49.961443</td>\n",
       "      <td>0 days 00:00:40.696981</td>\n",
       "      <td>128</td>\n",
       "      <td>0.002656</td>\n",
       "      <td>2</td>\n",
       "      <td>5</td>\n",
       "      <td>5</td>\n",
       "      <td>NaN</td>\n",
       "      <td>NaN</td>\n",
       "      <td>NaN</td>\n",
       "      <td>RMSprop</td>\n",
       "      <td>COMPLETE</td>\n",
       "    </tr>\n",
       "    <tr>\n",
       "      <th>3</th>\n",
       "      <td>3</td>\n",
       "      <td>0.104608</td>\n",
       "      <td>2025-06-10 18:26:50.055524</td>\n",
       "      <td>2025-06-10 18:36:07.877074</td>\n",
       "      <td>0 days 00:09:17.821550</td>\n",
       "      <td>64</td>\n",
       "      <td>0.020148</td>\n",
       "      <td>5</td>\n",
       "      <td>4</td>\n",
       "      <td>5</td>\n",
       "      <td>5.0</td>\n",
       "      <td>4.0</td>\n",
       "      <td>4.0</td>\n",
       "      <td>Adam</td>\n",
       "      <td>COMPLETE</td>\n",
       "    </tr>\n",
       "    <tr>\n",
       "      <th>4</th>\n",
       "      <td>4</td>\n",
       "      <td>0.104991</td>\n",
       "      <td>2025-06-10 18:36:07.925366</td>\n",
       "      <td>2025-06-10 18:39:07.748476</td>\n",
       "      <td>0 days 00:02:59.823110</td>\n",
       "      <td>128</td>\n",
       "      <td>0.000465</td>\n",
       "      <td>4</td>\n",
       "      <td>4</td>\n",
       "      <td>2</td>\n",
       "      <td>4.0</td>\n",
       "      <td>5.0</td>\n",
       "      <td>NaN</td>\n",
       "      <td>RMSprop</td>\n",
       "      <td>COMPLETE</td>\n",
       "    </tr>\n",
       "    <tr>\n",
       "      <th>...</th>\n",
       "      <td>...</td>\n",
       "      <td>...</td>\n",
       "      <td>...</td>\n",
       "      <td>...</td>\n",
       "      <td>...</td>\n",
       "      <td>...</td>\n",
       "      <td>...</td>\n",
       "      <td>...</td>\n",
       "      <td>...</td>\n",
       "      <td>...</td>\n",
       "      <td>...</td>\n",
       "      <td>...</td>\n",
       "      <td>...</td>\n",
       "      <td>...</td>\n",
       "      <td>...</td>\n",
       "    </tr>\n",
       "    <tr>\n",
       "      <th>160</th>\n",
       "      <td>160</td>\n",
       "      <td>0.104637</td>\n",
       "      <td>2025-06-12 18:47:16.692713</td>\n",
       "      <td>2025-06-12 18:47:17.862948</td>\n",
       "      <td>0 days 00:00:01.170235</td>\n",
       "      <td>32</td>\n",
       "      <td>0.025392</td>\n",
       "      <td>4</td>\n",
       "      <td>3</td>\n",
       "      <td>3</td>\n",
       "      <td>4.0</td>\n",
       "      <td>4.0</td>\n",
       "      <td>NaN</td>\n",
       "      <td>Adam</td>\n",
       "      <td>PRUNED</td>\n",
       "    </tr>\n",
       "    <tr>\n",
       "      <th>161</th>\n",
       "      <td>161</td>\n",
       "      <td>0.383356</td>\n",
       "      <td>2025-06-12 18:47:17.898754</td>\n",
       "      <td>2025-06-12 18:47:18.580472</td>\n",
       "      <td>0 days 00:00:00.681718</td>\n",
       "      <td>128</td>\n",
       "      <td>0.002667</td>\n",
       "      <td>4</td>\n",
       "      <td>3</td>\n",
       "      <td>3</td>\n",
       "      <td>5.0</td>\n",
       "      <td>4.0</td>\n",
       "      <td>NaN</td>\n",
       "      <td>SGD</td>\n",
       "      <td>PRUNED</td>\n",
       "    </tr>\n",
       "    <tr>\n",
       "      <th>162</th>\n",
       "      <td>162</td>\n",
       "      <td>0.108414</td>\n",
       "      <td>2025-06-12 18:47:18.618257</td>\n",
       "      <td>2025-06-12 18:47:19.267697</td>\n",
       "      <td>0 days 00:00:00.649440</td>\n",
       "      <td>64</td>\n",
       "      <td>0.009196</td>\n",
       "      <td>3</td>\n",
       "      <td>3</td>\n",
       "      <td>3</td>\n",
       "      <td>5.0</td>\n",
       "      <td>NaN</td>\n",
       "      <td>NaN</td>\n",
       "      <td>SGD</td>\n",
       "      <td>PRUNED</td>\n",
       "    </tr>\n",
       "    <tr>\n",
       "      <th>163</th>\n",
       "      <td>163</td>\n",
       "      <td>0.104592</td>\n",
       "      <td>2025-06-12 18:47:19.305850</td>\n",
       "      <td>2025-06-12 18:47:20.227765</td>\n",
       "      <td>0 days 00:00:00.921915</td>\n",
       "      <td>32</td>\n",
       "      <td>0.012052</td>\n",
       "      <td>4</td>\n",
       "      <td>3</td>\n",
       "      <td>5</td>\n",
       "      <td>3.0</td>\n",
       "      <td>4.0</td>\n",
       "      <td>NaN</td>\n",
       "      <td>SGD</td>\n",
       "      <td>PRUNED</td>\n",
       "    </tr>\n",
       "    <tr>\n",
       "      <th>164</th>\n",
       "      <td>164</td>\n",
       "      <td>NaN</td>\n",
       "      <td>2025-06-12 18:47:20.282518</td>\n",
       "      <td>2025-06-12 18:47:24.252872</td>\n",
       "      <td>0 days 00:00:03.970354</td>\n",
       "      <td>32</td>\n",
       "      <td>0.015540</td>\n",
       "      <td>4</td>\n",
       "      <td>3</td>\n",
       "      <td>3</td>\n",
       "      <td>5.0</td>\n",
       "      <td>4.0</td>\n",
       "      <td>NaN</td>\n",
       "      <td>SGD</td>\n",
       "      <td>FAIL</td>\n",
       "    </tr>\n",
       "  </tbody>\n",
       "</table>\n",
       "<p>165 rows × 15 columns</p>\n",
       "</div>"
      ],
      "text/plain": [
       "     number     value             datetime_start          datetime_complete  \\\n",
       "0         0  0.105557 2025-06-10 17:55:06.048530 2025-06-10 18:11:57.539304   \n",
       "1         1  0.105106 2025-06-10 18:11:57.613850 2025-06-10 18:26:09.177093   \n",
       "2         2  0.104617 2025-06-10 18:26:09.264462 2025-06-10 18:26:49.961443   \n",
       "3         3  0.104608 2025-06-10 18:26:50.055524 2025-06-10 18:36:07.877074   \n",
       "4         4  0.104991 2025-06-10 18:36:07.925366 2025-06-10 18:39:07.748476   \n",
       "..      ...       ...                        ...                        ...   \n",
       "160     160  0.104637 2025-06-12 18:47:16.692713 2025-06-12 18:47:17.862948   \n",
       "161     161  0.383356 2025-06-12 18:47:17.898754 2025-06-12 18:47:18.580472   \n",
       "162     162  0.108414 2025-06-12 18:47:18.618257 2025-06-12 18:47:19.267697   \n",
       "163     163  0.104592 2025-06-12 18:47:19.305850 2025-06-12 18:47:20.227765   \n",
       "164     164       NaN 2025-06-12 18:47:20.282518 2025-06-12 18:47:24.252872   \n",
       "\n",
       "                  duration  params_batch_size  params_lr  params_n_camadas  \\\n",
       "0   0 days 00:16:51.490774                128   0.000501                 2   \n",
       "1   0 days 00:14:11.563243                 64   0.001081                 5   \n",
       "2   0 days 00:00:40.696981                128   0.002656                 2   \n",
       "3   0 days 00:09:17.821550                 64   0.020148                 5   \n",
       "4   0 days 00:02:59.823110                128   0.000465                 4   \n",
       "..                     ...                ...        ...               ...   \n",
       "160 0 days 00:00:01.170235                 32   0.025392                 4   \n",
       "161 0 days 00:00:00.681718                128   0.002667                 4   \n",
       "162 0 days 00:00:00.649440                 64   0.009196                 3   \n",
       "163 0 days 00:00:00.921915                 32   0.012052                 4   \n",
       "164 0 days 00:00:03.970354                 32   0.015540                 4   \n",
       "\n",
       "     params_n_neuronios0  params_n_neuronios1  params_n_neuronios2  \\\n",
       "0                      3                    2                  NaN   \n",
       "1                      2                    3                  2.0   \n",
       "2                      5                    5                  NaN   \n",
       "3                      4                    5                  5.0   \n",
       "4                      4                    2                  4.0   \n",
       "..                   ...                  ...                  ...   \n",
       "160                    3                    3                  4.0   \n",
       "161                    3                    3                  5.0   \n",
       "162                    3                    3                  5.0   \n",
       "163                    3                    5                  3.0   \n",
       "164                    3                    3                  5.0   \n",
       "\n",
       "     params_n_neuronios3  params_n_neuronios4 params_otimizador     state  \n",
       "0                    NaN                  NaN               SGD  COMPLETE  \n",
       "1                    2.0                  4.0               SGD  COMPLETE  \n",
       "2                    NaN                  NaN           RMSprop  COMPLETE  \n",
       "3                    4.0                  4.0              Adam  COMPLETE  \n",
       "4                    5.0                  NaN           RMSprop  COMPLETE  \n",
       "..                   ...                  ...               ...       ...  \n",
       "160                  4.0                  NaN              Adam    PRUNED  \n",
       "161                  4.0                  NaN               SGD    PRUNED  \n",
       "162                  NaN                  NaN               SGD    PRUNED  \n",
       "163                  4.0                  NaN               SGD    PRUNED  \n",
       "164                  4.0                  NaN               SGD      FAIL  \n",
       "\n",
       "[165 rows x 15 columns]"
      ]
     },
     "execution_count": 16,
     "metadata": {},
     "output_type": "execute_result"
    }
   ],
   "source": [
    "objeto_de_estudo_carregado = load_study(\n",
    "    study_name=NOME_DO_ESTUDO,\n",
    "    storage=f\"sqlite:///{NOME_DO_ESTUDO}.db\",\n",
    ")\n",
    "\n",
    "df_optuna = objeto_de_estudo_carregado.trials_dataframe()\n",
    "\n",
    "df_optuna"
   ]
  },
  {
   "cell_type": "markdown",
   "metadata": {},
   "source": []
  },
  {
   "cell_type": "code",
   "execution_count": 21,
   "metadata": {},
   "outputs": [
    {
     "data": {
      "text/plain": [
       "Sequential(\n",
       "  (0): Linear(in_features=8, out_features=4, bias=True)\n",
       "  (1): ReLU()\n",
       "  (2): Linear(in_features=4, out_features=5, bias=True)\n",
       "  (3): ReLU()\n",
       "  (4): Linear(in_features=5, out_features=5, bias=True)\n",
       "  (5): ReLU()\n",
       "  (6): Linear(in_features=5, out_features=2, bias=True)\n",
       ")"
      ]
     },
     "execution_count": 21,
     "metadata": {},
     "output_type": "execute_result"
    }
   ],
   "source": [
    "modelo_rede_neural = define_model(melhor_trial)\n",
    "modelo_rede_neural.eval()"
   ]
  },
  {
   "cell_type": "markdown",
   "metadata": {},
   "source": []
  },
  {
   "cell_type": "code",
   "execution_count": 48,
   "metadata": {},
   "outputs": [],
   "source": [
    "teste_loader = DataLoader(teste_dataset, batch_size=melhor_batch, shuffle=False)\n",
    "teste_loss_acumulado = 0\n",
    "\n",
    "with torch.no_grad():\n",
    "    for batch_data_teste, batch_target_teste in teste_loader:\n",
    "        output_teste = modelo(batch_data_teste)\n",
    "        batch_target_teste = torch.from_numpy(scaler.inverse_transform(batch_target_teste))\n",
    "        output_teste = torch.from_numpy(scaler.inverse_transform(output_teste))\n",
    "        teste_loss_acumulado += F.mse_loss(output_teste, batch_target_teste, reduction='sum').item() # Soma das perdas\n",
    "\n",
    "    teste_loss = teste_loss_acumulado / len(teste_loader.dataset)"
   ]
  },
  {
   "cell_type": "code",
   "execution_count": 43,
   "metadata": {},
   "outputs": [],
   "source": [
    "modelo_dummy = DummyRegressor()\n",
    "modelo_dummy.fit(X_teste, y_teste)\n",
    "\n",
    "y_previsto = modelo_dummy.predict(X_teste)\n",
    "y_dummy = scaler.inverse_transform(y_previsto)\n",
    "y_teste = scaler.inverse_transform(y_teste)"
   ]
  },
  {
   "cell_type": "code",
   "execution_count": 47,
   "metadata": {},
   "outputs": [
    {
     "name": "stdout",
     "output_type": "stream",
     "text": [
      "RMSE da rede neural otimizada: 15079.886770628742\n",
      "RMSE do modelo dummy: 10183.716375818405\n"
     ]
    }
   ],
   "source": [
    "rmse_rede_neural = np.sqrt(teste_loss)\n",
    "rmse_teste = np.sqrt(mean_squared_error(y_teste, y_dummy))\n",
    "\n",
    "print(f'RMSE da rede neural otimizada: {rmse_rede_neural}\\nRMSE do modelo dummy: {rmse_teste}')"
   ]
  },
  {
   "cell_type": "markdown",
   "metadata": {},
   "source": [
    "## Conclusões:"
   ]
  },
  {
   "cell_type": "markdown",
   "metadata": {},
   "source": [
    "Com base na otimização dos hiperparâmetros da Rede Neural, modificando o otimizador usado, número de camadas e neurônios em cada camada. Obteve-se um conjunto de parâmetros que minimizava a perda do da nossa rede neural."
   ]
  },
  {
   "cell_type": "markdown",
   "metadata": {},
   "source": [
    "## Referências:"
   ]
  },
  {
   "cell_type": "markdown",
   "metadata": {},
   "source": [
    "\n",
    "[1] https://github.com/optuna/optuna-examples/blob/main/pytorch/pytorch_simple.py\n",
    "\n",
    "[2] https://github.com/optuna/optuna-examples/blob/main/pytorch/pytorch_checkpoint.py"
   ]
  }
 ],
 "metadata": {
  "kernelspec": {
   "display_name": "Python 3 (ipykernel)",
   "language": "python",
   "name": "python3"
  },
  "language_info": {
   "codemirror_mode": {
    "name": "ipython",
    "version": 3
   },
   "file_extension": ".py",
   "mimetype": "text/x-python",
   "name": "python",
   "nbconvert_exporter": "python",
   "pygments_lexer": "ipython3",
   "version": "3.11.6"
  }
 },
 "nbformat": 4,
 "nbformat_minor": 4
}
