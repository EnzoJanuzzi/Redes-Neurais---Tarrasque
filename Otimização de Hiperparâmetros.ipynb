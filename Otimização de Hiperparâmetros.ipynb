{
 "cells": [
  {
   "cell_type": "markdown",
   "metadata": {},
   "source": [
    "# Introdução:"
   ]
  },
  {
   "cell_type": "markdown",
   "metadata": {},
   "source": [
    "A partir do arquivo [Introdução](Introdução.ipynb), foi possível identificar parâmetros e características das Features e dos Targets. A partir disso, iremos treinar uma Rede Neural MLP (Multi Layer Perceptron), com o uso do Pytorch, com diversas arquiteturas distintas, através do Optuna, para identificar os melhores hiperparâmetros para a previsão dos nossos Targets.\n",
    "\n",
    "As Redes Neurais funcionam a partir de Camadas de Neurônios, que recebem uma informação com um determinado peso e processa essa dado através de uma função de ativação e um viés, resultando num output que é passado para outro neurônio conectado ou final.\n",
    "As Redes Neurais possuem numeros variáveis de camadas e neurônios em cada camada. Dessa forma, sendo hiperparâmetros da arquitetura da nossa rede.\n",
    " \n",
    "Para isso, iremos usar o Optuna, que consegue calcular a métricas de diversas arquiteturas de Redes Neurais. Assim, escolhendo os hiperparâmetros que funcionam melhor para a predição dos nossos targets."
   ]
  },
  {
   "cell_type": "markdown",
   "metadata": {},
   "source": [
    "# Desenvolvimento:"
   ]
  },
  {
   "cell_type": "markdown",
   "metadata": {},
   "source": [
    "## Importações e definições:"
   ]
  },
  {
   "cell_type": "markdown",
   "metadata": {},
   "source": [
    "Importando as bibliotecas necessárias:"
   ]
  },
  {
   "cell_type": "code",
   "execution_count": 1,
   "metadata": {},
   "outputs": [],
   "source": [
    "import pandas as pd\n",
    "import numpy as np\n",
    "import os\n",
    "import optuna\n",
    "\n",
    "from sklearn.model_selection import train_test_split\n",
    "from sklearn.preprocessing import MaxAbsScaler\n",
    "from sklearn.metrics import mean_squared_error\n",
    "\n",
    "import torch\n",
    "import torch.nn as nn\n",
    "import torch.optim as optim\n"
   ]
  },
  {
   "cell_type": "markdown",
   "metadata": {},
   "source": [
    "Definindo as constantes do problema:"
   ]
  },
  {
   "cell_type": "code",
   "execution_count": 2,
   "metadata": {},
   "outputs": [],
   "source": [
    "TAMANHO_TESTE = 0.1\n",
    "TAMANHO_VALIDACAO = 0.1\n",
    "\n",
    "SEMENTE_ALEATORIA = 1249\n",
    "\n",
    "NUM_EPOCAS = 50"
   ]
  },
  {
   "cell_type": "markdown",
   "metadata": {},
   "source": [
    "## Pré-processamento:"
   ]
  },
  {
   "cell_type": "markdown",
   "metadata": {},
   "source": [
    "Abaixo serão descritas as etapas de pré-processamento explicadas no notebook anterior."
   ]
  },
  {
   "cell_type": "markdown",
   "metadata": {},
   "source": [
    "--- CORRIGIR, PRECISAMOS DIVIDIR O DATASET EM TREINO, VALIDAÇÃO E TESTE E DEPOIS NORMALIZAR AJUSTANDO AO TREINO E APLIANDO AO RESTO (VAMOS DESNORMALIZAR DEPOIS), MAS NÃO É BOM NORMALIZAR TODOS OS ATRIBUTOS"
   ]
  },
  {
   "cell_type": "markdown",
   "metadata": {},
   "source": [
    "Carregando o dataset de energia:"
   ]
  },
  {
   "cell_type": "code",
   "execution_count": 3,
   "metadata": {},
   "outputs": [
    {
     "data": {
      "text/html": [
       "<div>\n",
       "<style scoped>\n",
       "    .dataframe tbody tr th:only-of-type {\n",
       "        vertical-align: middle;\n",
       "    }\n",
       "\n",
       "    .dataframe tbody tr th {\n",
       "        vertical-align: top;\n",
       "    }\n",
       "\n",
       "    .dataframe thead th {\n",
       "        text-align: right;\n",
       "    }\n",
       "</style>\n",
       "<table border=\"1\" class=\"dataframe\">\n",
       "  <thead>\n",
       "    <tr style=\"text-align: right;\">\n",
       "      <th></th>\n",
       "      <th>Type_of_Renewable_Energy</th>\n",
       "      <th>Installed_Capacity_MW</th>\n",
       "      <th>Energy_Production_MWh</th>\n",
       "      <th>Energy_Consumption_MWh</th>\n",
       "      <th>Energy_Storage_Capacity_MWh</th>\n",
       "      <th>Grid_Integration_Level</th>\n",
       "      <th>Initial_Investment_USD</th>\n",
       "      <th>Funding_Sources</th>\n",
       "      <th>Financial_Incentives_USD</th>\n",
       "      <th>GHG_Emission_Reduction_tCO2e</th>\n",
       "      <th>Air_Pollution_Reduction_Index</th>\n",
       "      <th>Storage_Efficiency_Percentage</th>\n",
       "    </tr>\n",
       "  </thead>\n",
       "  <tbody>\n",
       "    <tr>\n",
       "      <th>0</th>\n",
       "      <td>4</td>\n",
       "      <td>93.423205</td>\n",
       "      <td>103853.2206</td>\n",
       "      <td>248708.4892</td>\n",
       "      <td>2953.248771</td>\n",
       "      <td>4</td>\n",
       "      <td>4.732248e+08</td>\n",
       "      <td>1</td>\n",
       "      <td>9.207772e+06</td>\n",
       "      <td>6663.816572</td>\n",
       "      <td>81.742461</td>\n",
       "      <td>89.887562</td>\n",
       "    </tr>\n",
       "    <tr>\n",
       "      <th>1</th>\n",
       "      <td>4</td>\n",
       "      <td>590.468942</td>\n",
       "      <td>190223.0649</td>\n",
       "      <td>166104.1642</td>\n",
       "      <td>5305.174042</td>\n",
       "      <td>4</td>\n",
       "      <td>1.670697e+08</td>\n",
       "      <td>2</td>\n",
       "      <td>1.685101e+06</td>\n",
       "      <td>30656.049820</td>\n",
       "      <td>78.139042</td>\n",
       "      <td>84.403343</td>\n",
       "    </tr>\n",
       "    <tr>\n",
       "      <th>2</th>\n",
       "      <td>1</td>\n",
       "      <td>625.951142</td>\n",
       "      <td>266023.4824</td>\n",
       "      <td>424114.6308</td>\n",
       "      <td>2620.192622</td>\n",
       "      <td>2</td>\n",
       "      <td>8.463610e+07</td>\n",
       "      <td>2</td>\n",
       "      <td>5.111813e+06</td>\n",
       "      <td>1749.613759</td>\n",
       "      <td>8.461296</td>\n",
       "      <td>60.498249</td>\n",
       "    </tr>\n",
       "    <tr>\n",
       "      <th>3</th>\n",
       "      <td>1</td>\n",
       "      <td>779.998728</td>\n",
       "      <td>487039.5296</td>\n",
       "      <td>308337.7316</td>\n",
       "      <td>1925.250307</td>\n",
       "      <td>3</td>\n",
       "      <td>3.967690e+08</td>\n",
       "      <td>2</td>\n",
       "      <td>4.805902e+06</td>\n",
       "      <td>43233.237820</td>\n",
       "      <td>8.402441</td>\n",
       "      <td>86.897861</td>\n",
       "    </tr>\n",
       "    <tr>\n",
       "      <th>4</th>\n",
       "      <td>3</td>\n",
       "      <td>242.106837</td>\n",
       "      <td>482815.0856</td>\n",
       "      <td>360437.7705</td>\n",
       "      <td>3948.945383</td>\n",
       "      <td>2</td>\n",
       "      <td>3.574413e+07</td>\n",
       "      <td>1</td>\n",
       "      <td>1.668601e+07</td>\n",
       "      <td>14858.662760</td>\n",
       "      <td>28.822867</td>\n",
       "      <td>70.949351</td>\n",
       "    </tr>\n",
       "    <tr>\n",
       "      <th>...</th>\n",
       "      <td>...</td>\n",
       "      <td>...</td>\n",
       "      <td>...</td>\n",
       "      <td>...</td>\n",
       "      <td>...</td>\n",
       "      <td>...</td>\n",
       "      <td>...</td>\n",
       "      <td>...</td>\n",
       "      <td>...</td>\n",
       "      <td>...</td>\n",
       "      <td>...</td>\n",
       "      <td>...</td>\n",
       "    </tr>\n",
       "    <tr>\n",
       "      <th>14995</th>\n",
       "      <td>3</td>\n",
       "      <td>745.032555</td>\n",
       "      <td>280007.5738</td>\n",
       "      <td>230544.8268</td>\n",
       "      <td>4351.687893</td>\n",
       "      <td>4</td>\n",
       "      <td>3.484136e+08</td>\n",
       "      <td>2</td>\n",
       "      <td>1.558508e+07</td>\n",
       "      <td>25234.911810</td>\n",
       "      <td>78.923200</td>\n",
       "      <td>90.791405</td>\n",
       "    </tr>\n",
       "    <tr>\n",
       "      <th>14996</th>\n",
       "      <td>1</td>\n",
       "      <td>15.187023</td>\n",
       "      <td>377340.5803</td>\n",
       "      <td>358547.3589</td>\n",
       "      <td>6792.194696</td>\n",
       "      <td>4</td>\n",
       "      <td>2.560179e+08</td>\n",
       "      <td>3</td>\n",
       "      <td>6.866618e+06</td>\n",
       "      <td>15762.519790</td>\n",
       "      <td>54.982974</td>\n",
       "      <td>78.252040</td>\n",
       "    </tr>\n",
       "    <tr>\n",
       "      <th>14997</th>\n",
       "      <td>3</td>\n",
       "      <td>877.539059</td>\n",
       "      <td>480497.3920</td>\n",
       "      <td>214441.6719</td>\n",
       "      <td>4588.725297</td>\n",
       "      <td>1</td>\n",
       "      <td>1.300112e+08</td>\n",
       "      <td>2</td>\n",
       "      <td>3.837764e+06</td>\n",
       "      <td>44597.809410</td>\n",
       "      <td>43.915897</td>\n",
       "      <td>58.282928</td>\n",
       "    </tr>\n",
       "    <tr>\n",
       "      <th>14998</th>\n",
       "      <td>7</td>\n",
       "      <td>551.264716</td>\n",
       "      <td>436383.1694</td>\n",
       "      <td>137043.8713</td>\n",
       "      <td>7251.144215</td>\n",
       "      <td>2</td>\n",
       "      <td>3.334831e+08</td>\n",
       "      <td>2</td>\n",
       "      <td>5.347706e+06</td>\n",
       "      <td>34363.858000</td>\n",
       "      <td>4.877145</td>\n",
       "      <td>73.573666</td>\n",
       "    </tr>\n",
       "    <tr>\n",
       "      <th>14999</th>\n",
       "      <td>3</td>\n",
       "      <td>863.421803</td>\n",
       "      <td>314014.3005</td>\n",
       "      <td>124461.9178</td>\n",
       "      <td>7366.166362</td>\n",
       "      <td>4</td>\n",
       "      <td>2.989825e+08</td>\n",
       "      <td>2</td>\n",
       "      <td>1.832534e+07</td>\n",
       "      <td>27193.217600</td>\n",
       "      <td>50.559075</td>\n",
       "      <td>86.868893</td>\n",
       "    </tr>\n",
       "  </tbody>\n",
       "</table>\n",
       "<p>15000 rows × 12 columns</p>\n",
       "</div>"
      ],
      "text/plain": [
       "       Type_of_Renewable_Energy  Installed_Capacity_MW  Energy_Production_MWh  \\\n",
       "0                             4              93.423205            103853.2206   \n",
       "1                             4             590.468942            190223.0649   \n",
       "2                             1             625.951142            266023.4824   \n",
       "3                             1             779.998728            487039.5296   \n",
       "4                             3             242.106837            482815.0856   \n",
       "...                         ...                    ...                    ...   \n",
       "14995                         3             745.032555            280007.5738   \n",
       "14996                         1              15.187023            377340.5803   \n",
       "14997                         3             877.539059            480497.3920   \n",
       "14998                         7             551.264716            436383.1694   \n",
       "14999                         3             863.421803            314014.3005   \n",
       "\n",
       "       Energy_Consumption_MWh  Energy_Storage_Capacity_MWh  \\\n",
       "0                 248708.4892                  2953.248771   \n",
       "1                 166104.1642                  5305.174042   \n",
       "2                 424114.6308                  2620.192622   \n",
       "3                 308337.7316                  1925.250307   \n",
       "4                 360437.7705                  3948.945383   \n",
       "...                       ...                          ...   \n",
       "14995             230544.8268                  4351.687893   \n",
       "14996             358547.3589                  6792.194696   \n",
       "14997             214441.6719                  4588.725297   \n",
       "14998             137043.8713                  7251.144215   \n",
       "14999             124461.9178                  7366.166362   \n",
       "\n",
       "       Grid_Integration_Level  Initial_Investment_USD  Funding_Sources  \\\n",
       "0                           4            4.732248e+08                1   \n",
       "1                           4            1.670697e+08                2   \n",
       "2                           2            8.463610e+07                2   \n",
       "3                           3            3.967690e+08                2   \n",
       "4                           2            3.574413e+07                1   \n",
       "...                       ...                     ...              ...   \n",
       "14995                       4            3.484136e+08                2   \n",
       "14996                       4            2.560179e+08                3   \n",
       "14997                       1            1.300112e+08                2   \n",
       "14998                       2            3.334831e+08                2   \n",
       "14999                       4            2.989825e+08                2   \n",
       "\n",
       "       Financial_Incentives_USD  GHG_Emission_Reduction_tCO2e  \\\n",
       "0                  9.207772e+06                   6663.816572   \n",
       "1                  1.685101e+06                  30656.049820   \n",
       "2                  5.111813e+06                   1749.613759   \n",
       "3                  4.805902e+06                  43233.237820   \n",
       "4                  1.668601e+07                  14858.662760   \n",
       "...                         ...                           ...   \n",
       "14995              1.558508e+07                  25234.911810   \n",
       "14996              6.866618e+06                  15762.519790   \n",
       "14997              3.837764e+06                  44597.809410   \n",
       "14998              5.347706e+06                  34363.858000   \n",
       "14999              1.832534e+07                  27193.217600   \n",
       "\n",
       "       Air_Pollution_Reduction_Index  Storage_Efficiency_Percentage  \n",
       "0                          81.742461                      89.887562  \n",
       "1                          78.139042                      84.403343  \n",
       "2                           8.461296                      60.498249  \n",
       "3                           8.402441                      86.897861  \n",
       "4                          28.822867                      70.949351  \n",
       "...                              ...                            ...  \n",
       "14995                      78.923200                      90.791405  \n",
       "14996                      54.982974                      78.252040  \n",
       "14997                      43.915897                      58.282928  \n",
       "14998                       4.877145                      73.573666  \n",
       "14999                      50.559075                      86.868893  \n",
       "\n",
       "[15000 rows x 12 columns]"
      ]
     },
     "execution_count": 3,
     "metadata": {},
     "output_type": "execute_result"
    }
   ],
   "source": [
    "TARGET = [\"Storage_Efficiency_Percentage\"]\n",
    "FEATURES = [\n",
    "    \"Type_of_Renewable_Energy\",\n",
    "    \"Installed_Capacity_MW\",\n",
    "    \"Energy_Production_MWh\",\n",
    "    \"Energy_Consumption_MWh\",\n",
    "    \"Energy_Storage_Capacity_MWh\",\n",
    "    \"Grid_Integration_Level\",\n",
    "    \"Initial_Investment_USD\",\n",
    "    \"Funding_Sources\",\n",
    "    \"Financial_Incentives_USD\",\n",
    "    \"GHG_Emission_Reduction_tCO2e\",\n",
    "    \"Air_Pollution_Reduction_Index\",\n",
    "]\n",
    "\n",
    "df_energia = pd.read_csv('energy_dataset_.csv')\n",
    "df_energia = df_energia.reindex(FEATURES + TARGET, axis=1)\n",
    "df_energia = df_energia.dropna()\n",
    "df_energia"
   ]
  },
  {
   "cell_type": "markdown",
   "metadata": {},
   "source": [
    "Aplicando a normalização por Máximo Absoluto considerando as colunas fixas, que contém dados discretos e necessários para o treinamento e interpretabilidade do algoritmo:"
   ]
  },
  {
   "cell_type": "code",
   "execution_count": 12,
   "metadata": {},
   "outputs": [],
   "source": [
    "# df_energia_normalizado = df_energia.copy()\n",
    "# colunas_fixas = ['Type_of_Renewable_Energy', 'Grid_Integration_Level','Funding_Sources']\n",
    "# colunas_variaveis = df_energia_normalizado.columns.difference(colunas_fixas)\n",
    "\n",
    "# normalizador = MaxAbsScaler()\n",
    "# df_energia_normalizado[colunas_variaveis] = normalizador.fit_transform(df_energia_normalizado[colunas_variaveis])\n",
    "# df_energia_normalizado"
   ]
  },
  {
   "cell_type": "markdown",
   "metadata": {},
   "source": [
    "Dividindo os dados em treino, validação e teste, permitindo que a rede neural se ajuste aos dados de treino e seja otimizada para os dados de validação, evitando o *overfitting*:"
   ]
  },
  {
   "cell_type": "code",
   "execution_count": 13,
   "metadata": {},
   "outputs": [],
   "source": [
    "# Separação dos dados de teste\n",
    "indices = df_energia.index\n",
    "indices_treino_val, indices_teste = train_test_split(\n",
    "    indices, test_size=TAMANHO_TESTE, random_state=SEMENTE_ALEATORIA\n",
    ")\n",
    "\n",
    "df_treino_val = df_energia.loc[indices_treino_val]\n",
    "df_teste = df_energia.loc[indices_teste]\n",
    "\n",
    "X_teste = df_teste.reindex(FEATURES, axis=1).values\n",
    "y_teste = df_teste.reindex(TARGET, axis=1).values"
   ]
  },
  {
   "cell_type": "code",
   "execution_count": 6,
   "metadata": {},
   "outputs": [],
   "source": [
    "# Separação dos dados de treino e validação\n",
    "indices = df_treino_val.index\n",
    "indices_treino, indices_val = train_test_split(\n",
    "    indices, test_size=TAMANHO_TESTE, random_state=SEMENTE_ALEATORIA\n",
    ")\n",
    "\n",
    "df_treino = df_energia.loc[indices_treino]\n",
    "df_val = df_energia.loc[indices_val]\n",
    "\n",
    "X_treino = df_treino.reindex(FEATURES, axis=1).values\n",
    "y_treino = df_treino.reindex(TARGET, axis=1).values\n",
    "\n",
    "X_val = df_val.reindex(FEATURES, axis=1).values\n",
    "y_val = df_val.reindex(TARGET, axis=1).values"
   ]
  },
  {
   "cell_type": "markdown",
   "metadata": {},
   "source": [
    "Fazendo uma normalização por Máximo Absoluto, ajustando aos dados de treino e transformando aos demais dados:"
   ]
  },
  {
   "cell_type": "code",
   "execution_count": 7,
   "metadata": {},
   "outputs": [],
   "source": [
    "norm_x = MaxAbsScaler()\n",
    "norm_x.fit(X_treino)\n",
    "\n",
    "norm_y = MaxAbsScaler()\n",
    "norm_y.fit(y_treino)\n",
    "\n",
    "X_treino = norm_x.transform(X_treino)\n",
    "y_treino = norm_y.transform(y_treino)\n",
    "\n",
    "X_val = norm_x.transform(X_val)\n",
    "y_val = norm_y.transform(y_val)\n",
    "\n",
    "X_teste = norm_x.transform(X_teste)\n",
    "y_teste = norm_y.transform(y_teste)\n"
   ]
  },
  {
   "cell_type": "markdown",
   "metadata": {},
   "source": [
    "Convertendo os dados para Tensores, uma estrutura especial utilizada no módulo `Pytorch`:"
   ]
  },
  {
   "cell_type": "code",
   "execution_count": 8,
   "metadata": {},
   "outputs": [],
   "source": [
    "X_treino = torch.tensor(X_treino, dtype=torch.float32)\n",
    "y_treino = torch.tensor(y_treino, dtype=torch.float32)\n",
    "\n",
    "X_val = torch.tensor(X_val, dtype=torch.float32)\n",
    "y_val = torch.tensor(y_val, dtype=torch.float32)\n",
    "\n",
    "X_teste = torch.tensor(X_teste, dtype=torch.float32)\n",
    "y_teste = torch.tensor(y_teste, dtype=torch.float32)"
   ]
  },
  {
   "cell_type": "markdown",
   "metadata": {},
   "source": [
    "## Optuna:"
   ]
  },
  {
   "cell_type": "markdown",
   "metadata": {},
   "source": []
  },
  {
   "cell_type": "code",
   "execution_count": null,
   "metadata": {},
   "outputs": [],
   "source": [
    "def define_model(trial):\n",
    "    # ver questão do randomstate\n",
    "    n_camadas = trial.suggest_int(\"n_camadas\", 2, 5)\n",
    "    camadas = []\n",
    " \n",
    "    in_features = len(FEATURES)\n",
    "    for i in range(n_camadas):\n",
    "        out_features = trial.suggest_int(f\"n_neuronios{i}\", 2, 5)\n",
    "        camadas.append(nn.Linear(in_features, out_features))\n",
    "        camadas.append(nn.ReLU())\n",
    "        in_features = out_features\n",
    " \n",
    "    camadas.append(nn.Linear(in_features, NUM_TARGETS))\n",
    "\n",
    " \n",
    "    return nn.Sequential(*camadas)"
   ]
  },
  {
   "cell_type": "code",
   "execution_count": null,
   "metadata": {},
   "outputs": [],
   "source": [
    "def objective(trial):\n",
    "    model = define_model(trial).to(DEVICE)\n",
    " \n",
    "    nome_otimizador = trial.suggest_categorical(\"otimizador\", [\"Adam\"])\n",
    "    lr = trial.suggest_float(\"lr\", 1e-4, 1e-1, log=True) # depois ver o log\n",
    "    otimizador = getattr(optim, nome_otimizador)(model.parameters(), lr=lr)\n",
    " \n",
    "    treino = X_treino\n",
    "    target_treino = y_treino #COLOCAR NOSSOS DADOS DE TREINO AQUI\n",
    "    validacao = X_val #COLOCAR NOSSOS DADOS DE VALIDACAO AQUI\n",
    "    target_validacao = y_val\n",
    " \n",
    "    melhor_loss = float(\"inf\")\n",
    "    epochs_no_improve = 0\n",
    " \n",
    "    print(f\"Trial {trial.number}\")\n",
    " \n",
    "    for epoch in range(EPOCHS):        \n",
    "        model.train() #modo de treinamento\n",
    " \n",
    "        for data, target in zip(treino, target_treino):\n",
    "            data, target = data.to(DEVICE), target.to(DEVICE)\n",
    "            #Foward pass\n",
    "            output = model(data)\n",
    " \n",
    "            #Zero Grad\n",
    "            otimizador.zero_grad()\n",
    "            #Calculo da perda\n",
    "            loss = F.mse_loss(output, target)\n",
    " \n",
    "            #Backpropagation\n",
    "            loss.backward()\n",
    "            #Atualiza os parâmetros\n",
    "            otimizador.step()\n",
    " \n",
    "        # validação\n",
    "        model.eval()\n",
    "        val_loss = 0\n",
    "        with torch.no_grad():\n",
    "            for data, target in zip(validacao, target_validacao):\n",
    "                data, target = data.to(DEVICE), target.to(DEVICE)\n",
    "                output = model(data)\n",
    "                val_loss += F.mse_loss(output, target, reduction='sum').item()\n",
    " \n",
    "        val_loss /= len(validacao)\n",
    "        trial.report(-val_loss, epoch)  # negativo, pois queremos minimizar a loss\n",
    " \n",
    "        # early stopping\n",
    "        if val_loss < (melhor_loss - MIN_DELTA):\n",
    "            melhor_loss = val_loss\n",
    "            contador_tol = 0\n",
    " \n",
    "        else:\n",
    "            contador_tol += 1\n",
    "            if contador_tol >= PATIENCE:\n",
    "                print(f\"Parada Antecipada (Early Stopping) na época {epoch}.\")\n",
    "                break\n",
    " \n",
    "\n",
    "        if trial.should_prune():\n",
    "            raise optuna.exceptions.TrialPruned()\n",
    " \n",
    "    print(f\"[Trial {trial.number} Final] Melhor Val Loss: {melhor_loss:.4f}\")\n",
    "    return -melhor_loss  # objetivo: maximizar valor → minimizar loss"
   ]
  },
  {
   "cell_type": "code",
   "execution_count": 10,
   "metadata": {},
   "outputs": [
    {
     "name": "stderr",
     "output_type": "stream",
     "text": [
      "[I 2025-06-07 15:51:25,950] A new study created in memory with name: no-name-c56d5c26-cb97-49d8-ba4f-8dfa3a2328df\n"
     ]
    }
   ],
   "source": [
    "study = optuna.create_study(direction=\"minimize\")"
   ]
  },
  {
   "cell_type": "code",
   "execution_count": 11,
   "metadata": {},
   "outputs": [],
   "source": [
    "# SO RODAR QUANDO FOR NECESSÁRIO\n",
    "\n",
    "#study.optimize(objective, n_trials=100)  # Faz 100 testes de arquitetura\n",
    "\n",
    "#print(\"Melhores hiperparâmetros:\", study.best_params)"
   ]
  },
  {
   "cell_type": "code",
   "execution_count": null,
   "metadata": {},
   "outputs": [],
   "source": []
  },
  {
   "cell_type": "markdown",
   "metadata": {},
   "source": [
    "## Rede Neural MLP:"
   ]
  },
  {
   "cell_type": "markdown",
   "metadata": {},
   "source": []
  },
  {
   "cell_type": "code",
   "execution_count": null,
   "metadata": {},
   "outputs": [],
   "source": []
  },
  {
   "cell_type": "markdown",
   "metadata": {},
   "source": [
    "## Treinamento (Talvez):"
   ]
  },
  {
   "cell_type": "markdown",
   "metadata": {},
   "source": []
  },
  {
   "cell_type": "code",
   "execution_count": null,
   "metadata": {},
   "outputs": [],
   "source": []
  },
  {
   "cell_type": "markdown",
   "metadata": {},
   "source": [
    "## Curva de Aprendizado (Talvez):"
   ]
  },
  {
   "cell_type": "markdown",
   "metadata": {},
   "source": []
  },
  {
   "cell_type": "code",
   "execution_count": null,
   "metadata": {},
   "outputs": [],
   "source": []
  },
  {
   "cell_type": "markdown",
   "metadata": {},
   "source": [
    "## Testando a Rede:"
   ]
  },
  {
   "cell_type": "markdown",
   "metadata": {},
   "source": []
  },
  {
   "cell_type": "code",
   "execution_count": null,
   "metadata": {},
   "outputs": [],
   "source": []
  },
  {
   "cell_type": "markdown",
   "metadata": {},
   "source": [
    "# Conclusões:"
   ]
  },
  {
   "cell_type": "markdown",
   "metadata": {},
   "source": []
  },
  {
   "cell_type": "markdown",
   "metadata": {},
   "source": [
    "# Referências:"
   ]
  },
  {
   "cell_type": "markdown",
   "metadata": {},
   "source": [
    "[1] CASSAR, DANIEL. \"\". Material de aula, Ano\n",
    "\n",
    "[2] \n",
    "\n",
    "[3] "
   ]
  },
  {
   "cell_type": "markdown",
   "metadata": {},
   "source": []
  }
 ],
 "metadata": {
  "kernelspec": {
   "display_name": "ilumpy",
   "language": "python",
   "name": "ilumpy"
  },
  "language_info": {
   "codemirror_mode": {
    "name": "ipython",
    "version": 3
   },
   "file_extension": ".py",
   "mimetype": "text/x-python",
   "name": "python",
   "nbconvert_exporter": "python",
   "pygments_lexer": "ipython3",
   "version": "3.11.6"
  }
 },
 "nbformat": 4,
 "nbformat_minor": 2
}
