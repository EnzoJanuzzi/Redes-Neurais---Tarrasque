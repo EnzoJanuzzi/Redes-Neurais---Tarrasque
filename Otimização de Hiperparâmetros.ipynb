{
 "cells": [
  {
   "cell_type": "markdown",
   "metadata": {},
   "source": [
    "# Introdução:"
   ]
  },
  {
   "cell_type": "markdown",
   "metadata": {},
   "source": [
    "Retomar arquivo anterior, com link, explicar talvez o funcionamento simples de uma rede neural, uso do Pytorch pra otimizar cálculos, Optuna pra otimizar hiperparâmetros, métrica de erro"
   ]
  },
  {
   "cell_type": "markdown",
   "metadata": {},
   "source": [
    "# Desenvolvimento:"
   ]
  },
  {
   "cell_type": "markdown",
   "metadata": {},
   "source": [
    "## Importações e definições:"
   ]
  },
  {
   "cell_type": "markdown",
   "metadata": {},
   "source": [
    "Importando as bibliotecas necessárias:"
   ]
  },
  {
   "cell_type": "code",
   "execution_count": 3,
   "metadata": {},
   "outputs": [],
   "source": [
    "import pandas as pd\n",
    "import numpy as np\n",
    "import os\n",
    "import optuna\n",
    "\n",
    "from sklearn.model_selection import train_test_split\n",
    "from sklearn.preprocessing import MaxAbsScaler\n",
    "from sklearn.metrics import mean_squared_error\n",
    "\n",
    "import torch\n",
    "import torch.nn as nn\n",
    "import torch.optim as optim\n"
   ]
  },
  {
   "cell_type": "markdown",
   "metadata": {},
   "source": [
    "Definindo as constantes do problema:"
   ]
  },
  {
   "cell_type": "code",
   "execution_count": 4,
   "metadata": {},
   "outputs": [],
   "source": [
    "TAMANHO_TESTE = 0.1\n",
    "TAMANHO_VALIDACAO = 0.1\n",
    "\n",
    "SEMENTE_ALEATORIA = 1249\n",
    "\n",
    "NUM_EPOCAS = 50"
   ]
  },
  {
   "cell_type": "markdown",
   "metadata": {},
   "source": [
    "## Pré-processamento:"
   ]
  },
  {
   "cell_type": "markdown",
   "metadata": {},
   "source": [
    "Carregando o dataset de energia:"
   ]
  },
  {
   "cell_type": "code",
   "execution_count": 9,
   "metadata": {},
   "outputs": [
    {
     "data": {
      "text/html": [
       "<div>\n",
       "<style scoped>\n",
       "    .dataframe tbody tr th:only-of-type {\n",
       "        vertical-align: middle;\n",
       "    }\n",
       "\n",
       "    .dataframe tbody tr th {\n",
       "        vertical-align: top;\n",
       "    }\n",
       "\n",
       "    .dataframe thead th {\n",
       "        text-align: right;\n",
       "    }\n",
       "</style>\n",
       "<table border=\"1\" class=\"dataframe\">\n",
       "  <thead>\n",
       "    <tr style=\"text-align: right;\">\n",
       "      <th></th>\n",
       "      <th>Type_of_Renewable_Energy</th>\n",
       "      <th>Installed_Capacity_MW</th>\n",
       "      <th>Grid_Integration_Level</th>\n",
       "      <th>Initial_Investment_USD</th>\n",
       "      <th>Financial_Incentives_USD</th>\n",
       "      <th>GHG_Emission_Reduction_tCO2e</th>\n",
       "      <th>Air_Pollution_Reduction_Index</th>\n",
       "      <th>Storage_Efficiency_Percentage</th>\n",
       "    </tr>\n",
       "  </thead>\n",
       "  <tbody>\n",
       "    <tr>\n",
       "      <th>0</th>\n",
       "      <td>4</td>\n",
       "      <td>93.423205</td>\n",
       "      <td>4</td>\n",
       "      <td>4.732248e+08</td>\n",
       "      <td>9.207772e+06</td>\n",
       "      <td>6663.816572</td>\n",
       "      <td>81.742461</td>\n",
       "      <td>89.887562</td>\n",
       "    </tr>\n",
       "    <tr>\n",
       "      <th>1</th>\n",
       "      <td>4</td>\n",
       "      <td>590.468942</td>\n",
       "      <td>4</td>\n",
       "      <td>1.670697e+08</td>\n",
       "      <td>1.685101e+06</td>\n",
       "      <td>30656.049820</td>\n",
       "      <td>78.139042</td>\n",
       "      <td>84.403343</td>\n",
       "    </tr>\n",
       "    <tr>\n",
       "      <th>2</th>\n",
       "      <td>1</td>\n",
       "      <td>625.951142</td>\n",
       "      <td>2</td>\n",
       "      <td>8.463610e+07</td>\n",
       "      <td>5.111813e+06</td>\n",
       "      <td>1749.613759</td>\n",
       "      <td>8.461296</td>\n",
       "      <td>60.498249</td>\n",
       "    </tr>\n",
       "    <tr>\n",
       "      <th>3</th>\n",
       "      <td>1</td>\n",
       "      <td>779.998728</td>\n",
       "      <td>3</td>\n",
       "      <td>3.967690e+08</td>\n",
       "      <td>4.805902e+06</td>\n",
       "      <td>43233.237820</td>\n",
       "      <td>8.402441</td>\n",
       "      <td>86.897861</td>\n",
       "    </tr>\n",
       "    <tr>\n",
       "      <th>4</th>\n",
       "      <td>3</td>\n",
       "      <td>242.106837</td>\n",
       "      <td>2</td>\n",
       "      <td>3.574413e+07</td>\n",
       "      <td>1.668601e+07</td>\n",
       "      <td>14858.662760</td>\n",
       "      <td>28.822867</td>\n",
       "      <td>70.949351</td>\n",
       "    </tr>\n",
       "    <tr>\n",
       "      <th>...</th>\n",
       "      <td>...</td>\n",
       "      <td>...</td>\n",
       "      <td>...</td>\n",
       "      <td>...</td>\n",
       "      <td>...</td>\n",
       "      <td>...</td>\n",
       "      <td>...</td>\n",
       "      <td>...</td>\n",
       "    </tr>\n",
       "    <tr>\n",
       "      <th>14995</th>\n",
       "      <td>3</td>\n",
       "      <td>745.032555</td>\n",
       "      <td>4</td>\n",
       "      <td>3.484136e+08</td>\n",
       "      <td>1.558508e+07</td>\n",
       "      <td>25234.911810</td>\n",
       "      <td>78.923200</td>\n",
       "      <td>90.791405</td>\n",
       "    </tr>\n",
       "    <tr>\n",
       "      <th>14996</th>\n",
       "      <td>1</td>\n",
       "      <td>15.187023</td>\n",
       "      <td>4</td>\n",
       "      <td>2.560179e+08</td>\n",
       "      <td>6.866618e+06</td>\n",
       "      <td>15762.519790</td>\n",
       "      <td>54.982974</td>\n",
       "      <td>78.252040</td>\n",
       "    </tr>\n",
       "    <tr>\n",
       "      <th>14997</th>\n",
       "      <td>3</td>\n",
       "      <td>877.539059</td>\n",
       "      <td>1</td>\n",
       "      <td>1.300112e+08</td>\n",
       "      <td>3.837764e+06</td>\n",
       "      <td>44597.809410</td>\n",
       "      <td>43.915897</td>\n",
       "      <td>58.282928</td>\n",
       "    </tr>\n",
       "    <tr>\n",
       "      <th>14998</th>\n",
       "      <td>7</td>\n",
       "      <td>551.264716</td>\n",
       "      <td>2</td>\n",
       "      <td>3.334831e+08</td>\n",
       "      <td>5.347706e+06</td>\n",
       "      <td>34363.858000</td>\n",
       "      <td>4.877145</td>\n",
       "      <td>73.573666</td>\n",
       "    </tr>\n",
       "    <tr>\n",
       "      <th>14999</th>\n",
       "      <td>3</td>\n",
       "      <td>863.421803</td>\n",
       "      <td>4</td>\n",
       "      <td>2.989825e+08</td>\n",
       "      <td>1.832534e+07</td>\n",
       "      <td>27193.217600</td>\n",
       "      <td>50.559075</td>\n",
       "      <td>86.868893</td>\n",
       "    </tr>\n",
       "  </tbody>\n",
       "</table>\n",
       "<p>15000 rows × 8 columns</p>\n",
       "</div>"
      ],
      "text/plain": [
       "       Type_of_Renewable_Energy  Installed_Capacity_MW  \\\n",
       "0                             4              93.423205   \n",
       "1                             4             590.468942   \n",
       "2                             1             625.951142   \n",
       "3                             1             779.998728   \n",
       "4                             3             242.106837   \n",
       "...                         ...                    ...   \n",
       "14995                         3             745.032555   \n",
       "14996                         1              15.187023   \n",
       "14997                         3             877.539059   \n",
       "14998                         7             551.264716   \n",
       "14999                         3             863.421803   \n",
       "\n",
       "       Grid_Integration_Level  Initial_Investment_USD  \\\n",
       "0                           4            4.732248e+08   \n",
       "1                           4            1.670697e+08   \n",
       "2                           2            8.463610e+07   \n",
       "3                           3            3.967690e+08   \n",
       "4                           2            3.574413e+07   \n",
       "...                       ...                     ...   \n",
       "14995                       4            3.484136e+08   \n",
       "14996                       4            2.560179e+08   \n",
       "14997                       1            1.300112e+08   \n",
       "14998                       2            3.334831e+08   \n",
       "14999                       4            2.989825e+08   \n",
       "\n",
       "       Financial_Incentives_USD  GHG_Emission_Reduction_tCO2e  \\\n",
       "0                  9.207772e+06                   6663.816572   \n",
       "1                  1.685101e+06                  30656.049820   \n",
       "2                  5.111813e+06                   1749.613759   \n",
       "3                  4.805902e+06                  43233.237820   \n",
       "4                  1.668601e+07                  14858.662760   \n",
       "...                         ...                           ...   \n",
       "14995              1.558508e+07                  25234.911810   \n",
       "14996              6.866618e+06                  15762.519790   \n",
       "14997              3.837764e+06                  44597.809410   \n",
       "14998              5.347706e+06                  34363.858000   \n",
       "14999              1.832534e+07                  27193.217600   \n",
       "\n",
       "       Air_Pollution_Reduction_Index  Storage_Efficiency_Percentage  \n",
       "0                          81.742461                      89.887562  \n",
       "1                          78.139042                      84.403343  \n",
       "2                           8.461296                      60.498249  \n",
       "3                           8.402441                      86.897861  \n",
       "4                          28.822867                      70.949351  \n",
       "...                              ...                            ...  \n",
       "14995                      78.923200                      90.791405  \n",
       "14996                      54.982974                      78.252040  \n",
       "14997                      43.915897                      58.282928  \n",
       "14998                       4.877145                      73.573666  \n",
       "14999                      50.559075                      86.868893  \n",
       "\n",
       "[15000 rows x 8 columns]"
      ]
     },
     "execution_count": 9,
     "metadata": {},
     "output_type": "execute_result"
    }
   ],
   "source": [
    "TARGET = [\"Storage_Efficiency_Percentage\"]\n",
    "FEATURES = [\n",
    "    \"Type_of_Renewable_Energy\",\n",
    "    \"Installed_Capacity_MW\",\n",
    "    # Ver com Cassar: Dados sequenciais\n",
    "    #\"Energy_Production_MWh\",\n",
    "    #\"Energy_Consumption_MWh\",\n",
    "    #\"Energy_Storage_Capacity_MWh\",\n",
    "    \"Grid_Integration_Level\",\n",
    "    \"Initial_Investment_USD\",\n",
    "    # Ver se vale a pena\n",
    "    #\"Funding_Sources\",\n",
    "    \"Financial_Incentives_USD\",\n",
    "    \"GHG_Emission_Reduction_tCO2e\",\n",
    "    \"Air_Pollution_Reduction_Index\",\n",
    "    #\"Jobs_Created\",\n",
    "]\n",
    "\n",
    "df_energia = pd.read_csv('energy_dataset_.csv')\n",
    "df_energia = df_energia.reindex(FEATURES + TARGET, axis=1)\n",
    "df_energia = df_energia.dropna()\n",
    "df_energia"
   ]
  },
  {
   "cell_type": "markdown",
   "metadata": {},
   "source": [
    "Aplicando a normalização por Máximo Absoluto considerando as colunas fixas, que contém dados discretos e necessários para o treinamento e interpretabilidade do algoritmo:"
   ]
  },
  {
   "cell_type": "code",
   "execution_count": null,
   "metadata": {},
   "outputs": [],
   "source": [
    "df_energia_normalizado = df_energia.copy()\n",
    "colunas_fixas = ['Type_of_Renewable_Energy', 'Grid_Integration_Level','Funding_Sources']\n",
    "colunas_variaveis = df_energia_normalizado.columns.difference(colunas_fixas)\n",
    "\n",
    "normalizador = StandardScaler()\n",
    "df_energia_normalizado[colunas_variaveis] = normalizador.fit_transform(df_energia_normalizado[colunas_variaveis])\n",
    "df_energia_normalizado"
   ]
  },
  {
   "cell_type": "code",
   "execution_count": 14,
   "metadata": {},
   "outputs": [],
   "source": [
    "# df_energia_normalizado = df_energia.copy()\n",
    "# colunas_fixas = ['Type_of_Renewable_Energy', 'Grid_Integration_Level','Funding_Sources']\n",
    "# colunas_variaveis = df_energia_normalizado.columns.difference(colunas_fixas)\n",
    "\n",
    "# normalizador = MaxAbsScaler()\n",
    "# df_energia_normalizado[colunas_variaveis] = normalizador.fit_transform(df_energia_normalizado[colunas_variaveis])\n",
    "# df_energia_normalizado"
   ]
  },
  {
   "cell_type": "markdown",
   "metadata": {},
   "source": [
    "Dividindo os dados em treino, validação e teste, permitindo que a rede neural se ajuste aos dados de treino e seja otimizada para os dados de validação, evitando o *overfitting*:"
   ]
  },
  {
   "cell_type": "code",
   "execution_count": 13,
   "metadata": {},
   "outputs": [],
   "source": [
    "# Separação dos dados de teste\n",
    "indices = df_energia.index\n",
    "indices_treino_val, indices_teste = train_test_split(\n",
    "    indices, test_size=TAMANHO_TESTE, random_state=SEMENTE_ALEATORIA\n",
    ")\n",
    "\n",
    "df_treino_val = df_energia.loc[indices_treino_val]\n",
    "df_teste = df_energia.loc[indices_teste]\n",
    "\n",
    "X_teste = df_teste.reindex(FEATURES, axis=1).values\n",
    "y_teste = df_teste.reindex(TARGET, axis=1).values"
   ]
  },
  {
   "cell_type": "code",
   "execution_count": 15,
   "metadata": {},
   "outputs": [],
   "source": [
    "# Separação dos dados de treino e validação\n",
    "indices = df_treino_val.index\n",
    "indices_treino, indices_val = train_test_split(\n",
    "    indices, test_size=TAMANHO_TESTE, random_state=SEMENTE_ALEATORIA\n",
    ")\n",
    "\n",
    "df_treino = df_energia.loc[indices_treino]\n",
    "df_val = df_energia.loc[indices_val]\n",
    "\n",
    "X_treino = df_treino.reindex(FEATURES, axis=1).values\n",
    "y_treino = df_treino.reindex(TARGET, axis=1).values\n",
    "\n",
    "X_val = df_val.reindex(FEATURES, axis=1).values\n",
    "y_val = df_val.reindex(TARGET, axis=1).values"
   ]
  },
  {
   "cell_type": "markdown",
   "metadata": {},
   "source": [
    "Fazendo uma normalização por Máximo Absoluto, ajustando aos dados de treino e transformando aos demais dados:"
   ]
  },
  {
   "cell_type": "code",
   "execution_count": 17,
   "metadata": {},
   "outputs": [],
   "source": [
    "norm_x = MaxAbsScaler()\n",
    "norm_x.fit(X_treino)\n",
    "\n",
    "norm_y = MaxAbsScaler()\n",
    "norm_y.fit(y_treino)\n",
    "\n",
    "X_treino = norm_x.transform(X_treino)\n",
    "y_treino = norm_y.transform(y_treino)\n",
    "\n",
    "X_val = norm_x.transform(X_val)\n",
    "y_val = norm_y.transform(y_val)\n",
    "\n",
    "X_teste = norm_x.transform(X_teste)\n",
    "y_teste = norm_y.transform(y_teste)\n"
   ]
  },
  {
   "cell_type": "markdown",
   "metadata": {},
   "source": [
    "Convertendo os dados para Tensores, uma estrutura especial utilizada no módulo `Pytorch`:"
   ]
  },
  {
   "cell_type": "code",
   "execution_count": 18,
   "metadata": {},
   "outputs": [],
   "source": [
    "X_treino = torch.tensor(X_treino, dtype=torch.float32)\n",
    "y_treino = torch.tensor(y_treino, dtype=torch.float32)\n",
    "\n",
    "X_val = torch.tensor(X_val, dtype=torch.float32)\n",
    "y_val = torch.tensor(y_val, dtype=torch.float32)\n",
    "\n",
    "X_teste = torch.tensor(X_teste, dtype=torch.float32)\n",
    "y_teste = torch.tensor(y_teste, dtype=torch.float32)"
   ]
  },
  {
   "cell_type": "markdown",
   "metadata": {},
   "source": [
    "## Optuna:"
   ]
  },
  {
   "cell_type": "markdown",
   "metadata": {},
   "source": []
  },
  {
   "cell_type": "code",
   "execution_count": null,
   "metadata": {},
   "outputs": [],
   "source": [
    "# Função que o Optuna vai otimizar\n",
    "def objective(trial):\n",
    "    # Hiperparâmetros a serem testados\n",
    "    n_camadas = trial.suggest_int(\"n_layers\", 1, 4)\n",
    "    tamanho_camada_oculta = trial.suggest_int(\"hidden_size\", 16, 128)\n",
    "    funcao_ativacao = trial.suggest_categorical(\"activation\", [\"ReLU\", \"Tanh\"])\n",
    "    taxa_aprendizado = trial.suggest_float(\"lr\", 1e-4, 1e-2)\n",
    "\n",
    "    # Montando a rede com base nos hiperparâmetros\n",
    "    layers = []\n",
    "    input_size = X.shape[1]\n",
    "    for i in range(n_camadas):\n",
    "        layers.append(nn.Linear(input_size if i == 0 else tamanho_camada_oculta, tamanho_camada_oculta))\n",
    "        layers.append(getattr(nn, funcao_ativacao)())\n",
    "    layers.append(nn.Linear(tamanho_camada_oculta, 1))\n",
    "    model = nn.Sequential(*layers)\n",
    "\n",
    "    # Treinamento\n",
    "    otimizador = optim.Adam(model.parameters(), lr=taxa_aprendizado)\n",
    "    fun_perda = nn.MSELoss()\n",
    "    \n",
    "    for epoch in range(50):  \n",
    "        model.train()\n",
    "        y_pred = model(torch.tensor(X_treino, dtype=torch.float32))\n",
    "        loss = fun_perda(y_pred, torch.tensor(y_teste, dtype=torch.float32))\n",
    "        otimizador.zero_grad()\n",
    "        loss.backward()\n",
    "        otimizador.step()\n",
    "    \n",
    "    return loss.item()"
   ]
  },
  {
   "cell_type": "code",
   "execution_count": null,
   "metadata": {},
   "outputs": [
    {
     "name": "stderr",
     "output_type": "stream",
     "text": [
      "[I 2025-05-20 09:43:38,374] A new study created in memory with name: no-name-c2a66739-7af0-4d0b-bd28-22ef187a90fd\n"
     ]
    }
   ],
   "source": [
    "study = optuna.create_study(direction=\"minimize\")"
   ]
  },
  {
   "cell_type": "code",
   "execution_count": null,
   "metadata": {},
   "outputs": [],
   "source": [
    "# SO RODAR QUANDO FOR NECESSÁRIO\n",
    "\n",
    "#study.optimize(objective, n_trials=100)  # Faz 100 testes de arquitetura\n",
    "\n",
    "#print(\"Melhores hiperparâmetros:\", study.best_params)"
   ]
  },
  {
   "cell_type": "code",
   "execution_count": null,
   "metadata": {},
   "outputs": [],
   "source": []
  },
  {
   "cell_type": "markdown",
   "metadata": {},
   "source": [
    "## Rede Neural MLP:"
   ]
  },
  {
   "cell_type": "markdown",
   "metadata": {},
   "source": []
  },
  {
   "cell_type": "code",
   "execution_count": null,
   "metadata": {},
   "outputs": [],
   "source": []
  },
  {
   "cell_type": "markdown",
   "metadata": {},
   "source": [
    "## Treinamento (Talvez):"
   ]
  },
  {
   "cell_type": "markdown",
   "metadata": {},
   "source": []
  },
  {
   "cell_type": "code",
   "execution_count": null,
   "metadata": {},
   "outputs": [],
   "source": []
  },
  {
   "cell_type": "markdown",
   "metadata": {},
   "source": [
    "## Curva de Aprendizado (Talvez):"
   ]
  },
  {
   "cell_type": "markdown",
   "metadata": {},
   "source": []
  },
  {
   "cell_type": "code",
   "execution_count": null,
   "metadata": {},
   "outputs": [],
   "source": []
  },
  {
   "cell_type": "markdown",
   "metadata": {},
   "source": [
    "## Testando a Rede:"
   ]
  },
  {
   "cell_type": "markdown",
   "metadata": {},
   "source": []
  },
  {
   "cell_type": "code",
   "execution_count": null,
   "metadata": {},
   "outputs": [],
   "source": []
  },
  {
   "cell_type": "markdown",
   "metadata": {},
   "source": [
    "# Conclusões:"
   ]
  },
  {
   "cell_type": "markdown",
   "metadata": {},
   "source": []
  },
  {
   "cell_type": "markdown",
   "metadata": {},
   "source": [
    "# Referências:"
   ]
  },
  {
   "cell_type": "markdown",
   "metadata": {},
   "source": [
    "[1] CASSAR, DANIEL. \"\". Material de aula, Ano\n",
    "\n",
    "[2] \n",
    "\n",
    "[3] "
   ]
  },
  {
   "cell_type": "markdown",
   "metadata": {},
   "source": []
  }
 ],
 "metadata": {
  "kernelspec": {
   "display_name": "ilumpy",
   "language": "python",
   "name": "ilumpy"
  },
  "language_info": {
   "codemirror_mode": {
    "name": "ipython",
    "version": 3
   },
   "file_extension": ".py",
   "mimetype": "text/x-python",
   "name": "python",
   "nbconvert_exporter": "python",
   "pygments_lexer": "ipython3",
   "version": "3.11.6"
  }
 },
 "nbformat": 4,
 "nbformat_minor": 2
}
