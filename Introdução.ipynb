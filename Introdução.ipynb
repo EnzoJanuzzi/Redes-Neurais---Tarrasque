{
 "cells": [
  {
   "cell_type": "markdown",
   "metadata": {},
   "source": [
    "# Introdução:"
   ]
  },
  {
   "cell_type": "markdown",
   "metadata": {},
   "source": [
    "-Contextualização-\n",
    "A busca pela sustentabilidade vem crescendo cada vez mais no contexto atual de mudanças climáticas, com o uso de materiais poluentes e não degradáveis por grandes indústrias, o que afeta o ecossistema global. Nesse sentido, estudar sistemas renováveis, como as energias solares, hidroelétricas, entre outros, é de suma importância, visando compreender seus componentes e potencial para aplicação em larga escala, substituindo gradativamente as fontes não renováveis. [1,2]\n",
    "\n",
    "-Problema e Alternativa-\n",
    "Encontrar os parâmetros desses sistemas que maximizem sua eficiência é uma tarefa difícil, especialmente se o tipo de energia contém várias instâncias, aumentando a complexidade do problema. Assim, o uso de ferramentas de Aprendizado de Máquina (*Machine Learning*, ou ML) é uma maneira eficaz para compreender a relação entre os diferentes parâmetros, permitindo fazer previsões sobre os dados fornecidos, tais como a capacidade de armazenamento de energia e de redução de gases do efeito estufa (ou Green House Gases, GHG's). [3,4]\n",
    "\n",
    "-Redes neurais-\n",
    "Nesse sentido, combinar técnicas de ML com o Aprendizado Profundo (*Deep Learning*, ou DL) é uma estratégia interessante para estudar os sistemas de energia, sendo possível fazer previsões para os parâmetros desses sistemas e otimizá-los. Um exemplo de DL são as redes neurais, como a *Multi Layer Perceptron* (MLP), cuja arquitetura varia para cada parâmetro considerado. [5] Logo, o objetivo deste projeto é identificar e otimizar os hiperparâmetros de uma rede neural do tipo MLP para resolver um problema de regressão de interesse científico. \n",
    "\n",
    "-Dataset e passo a passo-\n",
    "Usou-se um dataset sobre sistemas de energia renovável [6] para o treinamento do modelo. Esse dataset contém informações detalhadas sobre diferentes sistemas de energia, que serão descritos abaixo. Nosso alvo (ou *target*) a ser estimado é X e Y, logo nesse notebook faremos uma análise inicial dos dados focando no target, computando algumas estatísticas descritivas e gráficos ilustrativos.\n",
    "\n",
    "#Explicar o trabalho, dataset, pré-processamento\n",
    "#Talvez usar GHG_Emission_Reduction_tCO2e como target tb, mais fácil de justificar e trabalhar, pode usar 2 #targets"
   ]
  },
  {
   "cell_type": "markdown",
   "metadata": {},
   "source": []
  },
  {
   "cell_type": "markdown",
   "metadata": {},
   "source": [
    "## Importações e definições:"
   ]
  },
  {
   "cell_type": "markdown",
   "metadata": {},
   "source": [
    "Começamos importando as bibliotecas necessárias:"
   ]
  },
  {
   "cell_type": "code",
   "execution_count": 14,
   "metadata": {},
   "outputs": [],
   "source": [
    "import pandas as pd\n",
    "import numpy as np\n",
    "import os\n",
    "import statistics as st\n",
    "import seaborn as sns\n",
    "\n",
    "from sklearn.model_selection import train_test_split\n",
    "from sklearn.preprocessing import StandardScaler\n",
    "from sklearn.metrics import mean_squared_error\n",
    "\n",
    "import torch\n",
    "import torch.nn as nn\n",
    "import torch.optim as optim\n"
   ]
  },
  {
   "cell_type": "markdown",
   "metadata": {},
   "source": [
    "Em seguida, iremos importar o dataset a ser utilizado, removendo valores faltantes e exibindo-o em seguida."
   ]
  },
  {
   "cell_type": "code",
   "execution_count": 3,
   "metadata": {},
   "outputs": [
    {
     "data": {
      "text/html": [
       "<div>\n",
       "<style scoped>\n",
       "    .dataframe tbody tr th:only-of-type {\n",
       "        vertical-align: middle;\n",
       "    }\n",
       "\n",
       "    .dataframe tbody tr th {\n",
       "        vertical-align: top;\n",
       "    }\n",
       "\n",
       "    .dataframe thead th {\n",
       "        text-align: right;\n",
       "    }\n",
       "</style>\n",
       "<table border=\"1\" class=\"dataframe\">\n",
       "  <thead>\n",
       "    <tr style=\"text-align: right;\">\n",
       "      <th></th>\n",
       "      <th>Type_of_Renewable_Energy</th>\n",
       "      <th>Installed_Capacity_MW</th>\n",
       "      <th>Energy_Production_MWh</th>\n",
       "      <th>Energy_Consumption_MWh</th>\n",
       "      <th>Energy_Storage_Capacity_MWh</th>\n",
       "      <th>Storage_Efficiency_Percentage</th>\n",
       "      <th>Grid_Integration_Level</th>\n",
       "      <th>Initial_Investment_USD</th>\n",
       "      <th>Funding_Sources</th>\n",
       "      <th>Financial_Incentives_USD</th>\n",
       "      <th>GHG_Emission_Reduction_tCO2e</th>\n",
       "      <th>Air_Pollution_Reduction_Index</th>\n",
       "      <th>Jobs_Created</th>\n",
       "    </tr>\n",
       "  </thead>\n",
       "  <tbody>\n",
       "    <tr>\n",
       "      <th>0</th>\n",
       "      <td>4</td>\n",
       "      <td>93.423205</td>\n",
       "      <td>103853.2206</td>\n",
       "      <td>248708.4892</td>\n",
       "      <td>2953.248771</td>\n",
       "      <td>89.887562</td>\n",
       "      <td>4</td>\n",
       "      <td>4.732248e+08</td>\n",
       "      <td>1</td>\n",
       "      <td>9.207772e+06</td>\n",
       "      <td>6663.816572</td>\n",
       "      <td>81.742461</td>\n",
       "      <td>1366</td>\n",
       "    </tr>\n",
       "    <tr>\n",
       "      <th>1</th>\n",
       "      <td>4</td>\n",
       "      <td>590.468942</td>\n",
       "      <td>190223.0649</td>\n",
       "      <td>166104.1642</td>\n",
       "      <td>5305.174042</td>\n",
       "      <td>84.403343</td>\n",
       "      <td>4</td>\n",
       "      <td>1.670697e+08</td>\n",
       "      <td>2</td>\n",
       "      <td>1.685101e+06</td>\n",
       "      <td>30656.049820</td>\n",
       "      <td>78.139042</td>\n",
       "      <td>1743</td>\n",
       "    </tr>\n",
       "    <tr>\n",
       "      <th>2</th>\n",
       "      <td>1</td>\n",
       "      <td>625.951142</td>\n",
       "      <td>266023.4824</td>\n",
       "      <td>424114.6308</td>\n",
       "      <td>2620.192622</td>\n",
       "      <td>60.498249</td>\n",
       "      <td>2</td>\n",
       "      <td>8.463610e+07</td>\n",
       "      <td>2</td>\n",
       "      <td>5.111813e+06</td>\n",
       "      <td>1749.613759</td>\n",
       "      <td>8.461296</td>\n",
       "      <td>363</td>\n",
       "    </tr>\n",
       "    <tr>\n",
       "      <th>3</th>\n",
       "      <td>1</td>\n",
       "      <td>779.998728</td>\n",
       "      <td>487039.5296</td>\n",
       "      <td>308337.7316</td>\n",
       "      <td>1925.250307</td>\n",
       "      <td>86.897861</td>\n",
       "      <td>3</td>\n",
       "      <td>3.967690e+08</td>\n",
       "      <td>2</td>\n",
       "      <td>4.805902e+06</td>\n",
       "      <td>43233.237820</td>\n",
       "      <td>8.402441</td>\n",
       "      <td>2821</td>\n",
       "    </tr>\n",
       "    <tr>\n",
       "      <th>4</th>\n",
       "      <td>3</td>\n",
       "      <td>242.106837</td>\n",
       "      <td>482815.0856</td>\n",
       "      <td>360437.7705</td>\n",
       "      <td>3948.945383</td>\n",
       "      <td>70.949351</td>\n",
       "      <td>2</td>\n",
       "      <td>3.574413e+07</td>\n",
       "      <td>1</td>\n",
       "      <td>1.668601e+07</td>\n",
       "      <td>14858.662760</td>\n",
       "      <td>28.822867</td>\n",
       "      <td>2583</td>\n",
       "    </tr>\n",
       "    <tr>\n",
       "      <th>...</th>\n",
       "      <td>...</td>\n",
       "      <td>...</td>\n",
       "      <td>...</td>\n",
       "      <td>...</td>\n",
       "      <td>...</td>\n",
       "      <td>...</td>\n",
       "      <td>...</td>\n",
       "      <td>...</td>\n",
       "      <td>...</td>\n",
       "      <td>...</td>\n",
       "      <td>...</td>\n",
       "      <td>...</td>\n",
       "      <td>...</td>\n",
       "    </tr>\n",
       "    <tr>\n",
       "      <th>14995</th>\n",
       "      <td>3</td>\n",
       "      <td>745.032555</td>\n",
       "      <td>280007.5738</td>\n",
       "      <td>230544.8268</td>\n",
       "      <td>4351.687893</td>\n",
       "      <td>90.791405</td>\n",
       "      <td>4</td>\n",
       "      <td>3.484136e+08</td>\n",
       "      <td>2</td>\n",
       "      <td>1.558508e+07</td>\n",
       "      <td>25234.911810</td>\n",
       "      <td>78.923200</td>\n",
       "      <td>1452</td>\n",
       "    </tr>\n",
       "    <tr>\n",
       "      <th>14996</th>\n",
       "      <td>1</td>\n",
       "      <td>15.187023</td>\n",
       "      <td>377340.5803</td>\n",
       "      <td>358547.3589</td>\n",
       "      <td>6792.194696</td>\n",
       "      <td>78.252040</td>\n",
       "      <td>4</td>\n",
       "      <td>2.560179e+08</td>\n",
       "      <td>3</td>\n",
       "      <td>6.866618e+06</td>\n",
       "      <td>15762.519790</td>\n",
       "      <td>54.982974</td>\n",
       "      <td>2598</td>\n",
       "    </tr>\n",
       "    <tr>\n",
       "      <th>14997</th>\n",
       "      <td>3</td>\n",
       "      <td>877.539059</td>\n",
       "      <td>480497.3920</td>\n",
       "      <td>214441.6719</td>\n",
       "      <td>4588.725297</td>\n",
       "      <td>58.282928</td>\n",
       "      <td>1</td>\n",
       "      <td>1.300112e+08</td>\n",
       "      <td>2</td>\n",
       "      <td>3.837764e+06</td>\n",
       "      <td>44597.809410</td>\n",
       "      <td>43.915897</td>\n",
       "      <td>2713</td>\n",
       "    </tr>\n",
       "    <tr>\n",
       "      <th>14998</th>\n",
       "      <td>7</td>\n",
       "      <td>551.264716</td>\n",
       "      <td>436383.1694</td>\n",
       "      <td>137043.8713</td>\n",
       "      <td>7251.144215</td>\n",
       "      <td>73.573666</td>\n",
       "      <td>2</td>\n",
       "      <td>3.334831e+08</td>\n",
       "      <td>2</td>\n",
       "      <td>5.347706e+06</td>\n",
       "      <td>34363.858000</td>\n",
       "      <td>4.877145</td>\n",
       "      <td>2128</td>\n",
       "    </tr>\n",
       "    <tr>\n",
       "      <th>14999</th>\n",
       "      <td>3</td>\n",
       "      <td>863.421803</td>\n",
       "      <td>314014.3005</td>\n",
       "      <td>124461.9178</td>\n",
       "      <td>7366.166362</td>\n",
       "      <td>86.868893</td>\n",
       "      <td>4</td>\n",
       "      <td>2.989825e+08</td>\n",
       "      <td>2</td>\n",
       "      <td>1.832534e+07</td>\n",
       "      <td>27193.217600</td>\n",
       "      <td>50.559075</td>\n",
       "      <td>1871</td>\n",
       "    </tr>\n",
       "  </tbody>\n",
       "</table>\n",
       "<p>15000 rows × 13 columns</p>\n",
       "</div>"
      ],
      "text/plain": [
       "       Type_of_Renewable_Energy  Installed_Capacity_MW  Energy_Production_MWh  \\\n",
       "0                             4              93.423205            103853.2206   \n",
       "1                             4             590.468942            190223.0649   \n",
       "2                             1             625.951142            266023.4824   \n",
       "3                             1             779.998728            487039.5296   \n",
       "4                             3             242.106837            482815.0856   \n",
       "...                         ...                    ...                    ...   \n",
       "14995                         3             745.032555            280007.5738   \n",
       "14996                         1              15.187023            377340.5803   \n",
       "14997                         3             877.539059            480497.3920   \n",
       "14998                         7             551.264716            436383.1694   \n",
       "14999                         3             863.421803            314014.3005   \n",
       "\n",
       "       Energy_Consumption_MWh  Energy_Storage_Capacity_MWh  \\\n",
       "0                 248708.4892                  2953.248771   \n",
       "1                 166104.1642                  5305.174042   \n",
       "2                 424114.6308                  2620.192622   \n",
       "3                 308337.7316                  1925.250307   \n",
       "4                 360437.7705                  3948.945383   \n",
       "...                       ...                          ...   \n",
       "14995             230544.8268                  4351.687893   \n",
       "14996             358547.3589                  6792.194696   \n",
       "14997             214441.6719                  4588.725297   \n",
       "14998             137043.8713                  7251.144215   \n",
       "14999             124461.9178                  7366.166362   \n",
       "\n",
       "       Storage_Efficiency_Percentage  Grid_Integration_Level  \\\n",
       "0                          89.887562                       4   \n",
       "1                          84.403343                       4   \n",
       "2                          60.498249                       2   \n",
       "3                          86.897861                       3   \n",
       "4                          70.949351                       2   \n",
       "...                              ...                     ...   \n",
       "14995                      90.791405                       4   \n",
       "14996                      78.252040                       4   \n",
       "14997                      58.282928                       1   \n",
       "14998                      73.573666                       2   \n",
       "14999                      86.868893                       4   \n",
       "\n",
       "       Initial_Investment_USD  Funding_Sources  Financial_Incentives_USD  \\\n",
       "0                4.732248e+08                1              9.207772e+06   \n",
       "1                1.670697e+08                2              1.685101e+06   \n",
       "2                8.463610e+07                2              5.111813e+06   \n",
       "3                3.967690e+08                2              4.805902e+06   \n",
       "4                3.574413e+07                1              1.668601e+07   \n",
       "...                       ...              ...                       ...   \n",
       "14995            3.484136e+08                2              1.558508e+07   \n",
       "14996            2.560179e+08                3              6.866618e+06   \n",
       "14997            1.300112e+08                2              3.837764e+06   \n",
       "14998            3.334831e+08                2              5.347706e+06   \n",
       "14999            2.989825e+08                2              1.832534e+07   \n",
       "\n",
       "       GHG_Emission_Reduction_tCO2e  Air_Pollution_Reduction_Index  \\\n",
       "0                       6663.816572                      81.742461   \n",
       "1                      30656.049820                      78.139042   \n",
       "2                       1749.613759                       8.461296   \n",
       "3                      43233.237820                       8.402441   \n",
       "4                      14858.662760                      28.822867   \n",
       "...                             ...                            ...   \n",
       "14995                  25234.911810                      78.923200   \n",
       "14996                  15762.519790                      54.982974   \n",
       "14997                  44597.809410                      43.915897   \n",
       "14998                  34363.858000                       4.877145   \n",
       "14999                  27193.217600                      50.559075   \n",
       "\n",
       "       Jobs_Created  \n",
       "0              1366  \n",
       "1              1743  \n",
       "2               363  \n",
       "3              2821  \n",
       "4              2583  \n",
       "...             ...  \n",
       "14995          1452  \n",
       "14996          2598  \n",
       "14997          2713  \n",
       "14998          2128  \n",
       "14999          1871  \n",
       "\n",
       "[15000 rows x 13 columns]"
      ]
     },
     "execution_count": 3,
     "metadata": {},
     "output_type": "execute_result"
    }
   ],
   "source": [
    "df_energia = pd.read_csv('energy_dataset_.csv')\n",
    "df_energia = df_energia.dropna()\n",
    "df_energia"
   ]
  },
  {
   "cell_type": "markdown",
   "metadata": {},
   "source": [
    "### 🔍 Características das Features"
   ]
  },
  {
   "cell_type": "markdown",
   "metadata": {},
   "source": [
    "🔋 `Type_of_Renewable_Energy`:\n",
    "\n",
    "Tipo de fonte de energia renovável (dados categóricos):\n",
    "\n",
    "- `1`: ☀️ Solar  \n",
    "- `2`: 🌬️ Wind (Eólica)  \n",
    "- `3`: 💧 Hydroelectric (Hidroelétrica)  \n",
    "- `4`: 🌋 Geothermal (Geotermal)  \n",
    "- `5`: 🌿 Biomass (Biomassa)  \n",
    "- `6`: 🌊 Tidal (Maré)  \n",
    "- `7`: 🌊 Wave (Ondas)\n",
    "\n",
    "\n",
    "⚡ `Installed_Capacity_MW`:\n",
    "\n",
    "Capacidade instalada em Megawatts (MW)\n",
    "\n",
    "\n",
    "🔌 `Energy_Production_MWh`:\n",
    "\n",
    "Produção anual de energia em Megawatts-hora (MWh)\n",
    "\n",
    "\n",
    "\n",
    "🔋 `Energy_Consumption_MWh`:\n",
    "\n",
    "Consumo anual de energia em Megawatts-hora (MWh)\n",
    "\n",
    "\n",
    "\n",
    "🏗️ `Grid_Integration_Level`:\n",
    "\n",
    "Nível de integração com a rede elétrica (dados categóricos):\n",
    "\n",
    "- `1`: ✅ Fully Integrated (Totalmente integrada)  \n",
    "- `2`: ⚠️ Partially Integrated (Parcialmente integrada)  \n",
    "- `3`: 🔻 Minimal Integration (Integração mínima)  \n",
    "- `4`: 🔌 Isolated Microgrid (Microrrede isolada)\n",
    "\n",
    "\n",
    "\n",
    "💰 `Founding_Sources`:\n",
    "\n",
    "Fonte de investimento (dados categóricos):\n",
    "\n",
    "- `1`: 🏛️ Government (Governamental)  \n",
    "- `2`: 🏢 Private (Privada)  \n",
    "- `3`: 🤝 Public-Private Partnership (Colaboração Público e Privado)\n",
    "\n",
    "\n",
    "\n",
    "💵 `Inicial_Investiment_USD`:\n",
    "\n",
    "Investimento inicial em dólares (USD)\n",
    "\n",
    "\n",
    "\n",
    "🌱 `GHG_Emission_Reduction_tCO2e`:\n",
    "\n",
    "Redução das emissões de gases de efeito estufa (tCO2e)\n",
    "\n",
    "\n",
    "🌬️ `Air_Pollution_Reduction_Index`:\n",
    "\n",
    "Índice de redução da poluição do ar\n"
   ]
  },
  {
   "cell_type": "markdown",
   "metadata": {},
   "source": [
    "### 🔎 Caracterísitcas do Target"
   ]
  },
  {
   "cell_type": "markdown",
   "metadata": {},
   "source": [
    "🔌 `Storage_Efficiency_Percentage`: \n",
    "     \n",
    "Eficiência de armazenamento de energia em porcentagem\n"
   ]
  },
  {
   "cell_type": "markdown",
   "metadata": {},
   "source": [
    "### 🕵️ Explorando o Dataset"
   ]
  },
  {
   "cell_type": "markdown",
   "metadata": {},
   "source": [
    "Em um primeiro momento, é interessante investigar os dados que compreendem o *target* do projeto, isto é, a porcentagem de eficiência de armazenamento de energia (Storage_Efficiency_Percentage), visando uma melhor compreensão de sua distribuição, bem como de como se comportam. Nesse sentido, utilizando a biblioteca `statistics`, algumas estatísticas descritivas dos dados serão analisadas. Dentre elas, encontra-se a média, a mediana, o desvio-padrão e os valores mínimo e máximo, com o intuito de analisar a tendência dos dados a serem previstos, bem como a distribuição deles. [1]"
   ]
  },
  {
   "cell_type": "markdown",
   "metadata": {},
   "source": [
    "#### 🌘 Média"
   ]
  },
  {
   "cell_type": "markdown",
   "metadata": {},
   "source": [
    "A média é calculada a partir da divisão da soma de todos os elementos que compõe uma variável aleatória pela quantidade total de termos. Essa estatística nos fornece uma tendência central dos valores da variável analisada."
   ]
  },
  {
   "cell_type": "markdown",
   "metadata": {},
   "source": [
    "$$\n",
    "\\mu = \\frac{1}{N} \\sum_{i=1}^{N} X_i\n",
    "$$\n",
    "\n",
    "[Fórmula 1: Cálculo da média]"
   ]
  },
  {
   "cell_type": "code",
   "execution_count": null,
   "metadata": {},
   "outputs": [],
   "source": [
    "media_target = st.mean(df_energia[\"Storage_Efficiency_Percentage\"])\n",
    "print(f'A média da porcentagem de eficiência energética é igual a {media_target:2f}.')"
   ]
  },
  {
   "cell_type": "markdown",
   "metadata": {},
   "source": [
    "#### 🌗 Mediana"
   ]
  },
  {
   "cell_type": "markdown",
   "metadata": {},
   "source": [
    "A mediana consiste em uma estatística que apresenta o valor que segrega a variável aleatória na metade, isto é, em dois grupos de mesmo tamanho, compreendendo o valor central da variável analisada. Por não ser influenciada por valores discrepantes que compõe o conjunto explorado - os famosos *outliers*-, a mediana compreende uma métrica mais robusta para compreender a tendência central dos dados, sobretudo quanto possuímos variáveis aleatórias com *outliers*."
   ]
  },
  {
   "cell_type": "code",
   "execution_count": 9,
   "metadata": {},
   "outputs": [
    {
     "name": "stdout",
     "output_type": "stream",
     "text": [
      "A mediana da porcentagem de eficiência energética é igual a 75.279701875.\n"
     ]
    }
   ],
   "source": [
    "mediana_target = st.median(df_energia[\"Storage_Efficiency_Percentage\"])\n",
    "print(f'A mediana da porcentagem de eficiência energética é igual a {mediana_target:2f}.')"
   ]
  },
  {
   "cell_type": "markdown",
   "metadata": {},
   "source": [
    "#### 🌖 Desvio-padrão"
   ]
  },
  {
   "cell_type": "markdown",
   "metadata": {},
   "source": [
    "O desvio-padrão compreende o quão distante da média se encontram os valores que compõe a variável aleatória analisada."
   ]
  },
  {
   "cell_type": "markdown",
   "metadata": {},
   "source": [
    "$$\n",
    "\\sigma = \\sqrt{\\mathrm{Var(X)}} =  \\sqrt{\\frac{1}{N} \\sum_{i=1}^{N} (X_i - \\mu)^2}\n",
    "$$\n",
    "\n",
    "[Fórmula 2: Cálculo do desvio-padrão]"
   ]
  },
  {
   "cell_type": "code",
   "execution_count": 8,
   "metadata": {},
   "outputs": [
    {
     "name": "stdout",
     "output_type": "stream",
     "text": [
      "O desvio-padrão da porcentagem de eficiência energética é igual a 14.484806549643743.\n"
     ]
    }
   ],
   "source": [
    "desvio_padrao_target = st.pstdev(df_energia[\"Storage_Efficiency_Percentage\"])\n",
    "print(f'O desvio-padrão da porcentagem de eficiência energética é igual a {desvio_padrao_target:2f}.')"
   ]
  },
  {
   "cell_type": "markdown",
   "metadata": {},
   "source": [
    "#### 🌕 Valores Mínimo e Máximo "
   ]
  },
  {
   "cell_type": "markdown",
   "metadata": {},
   "source": [
    "Através da análise do menor valor dos dados (mínimo) e do maior valor contido no conjunto (máximo), é possível compreender melhor a distribuição da variável aleatória analisada, assim como entender o resultado de outras métricas computadas, a exemplo da média, da mediana e do desvio-padrão."
   ]
  },
  {
   "cell_type": "code",
   "execution_count": 12,
   "metadata": {},
   "outputs": [
    {
     "name": "stdout",
     "output_type": "stream",
     "text": [
      "O menor valor da porcentagem de eficiência energética é igual a 50.0034939.\n"
     ]
    }
   ],
   "source": [
    "valor_minimo_target = min(df_energia[\"Storage_Efficiency_Percentage\"])\n",
    "print(f'O menor valor da porcentagem de eficiência energética é igual a {valor_minimo_target:2f}.')"
   ]
  },
  {
   "cell_type": "code",
   "execution_count": 13,
   "metadata": {},
   "outputs": [
    {
     "name": "stdout",
     "output_type": "stream",
     "text": [
      "O desvio-padrão da porcentagem de eficiência energética é igual a 99.99495491.\n"
     ]
    }
   ],
   "source": [
    "valor_maximo_target = max(df_energia[\"Storage_Efficiency_Percentage\"])\n",
    "print(f'O maior valor da porcentagem de eficiência energética é igual a {valor_maximo_target:2f}.')"
   ]
  },
  {
   "cell_type": "markdown",
   "metadata": {},
   "source": [
    "### 🌑 O que podemos tirar disso?"
   ]
  },
  {
   "cell_type": "markdown",
   "metadata": {},
   "source": [
    "Pautando-se nas estatísticas descritivas apresentadas, podemos obter informações valiosas acerca dos dados que se pretende prever no presente projeto, isto é, do *target*. Desse modo, com base nos valores de média e mediana próximos, bem como nos valores máximo e mínimo - os quais não tão distantes entre si, fica evidente que os dados não apresentam valores tão discrepantes, isto é, não há *outliers* consideráveis. Tal observação é amparada haja vista o baixo resultado obtido para o desvio-padrão do *target* observado. Além disso, o Gráfico 1, que apresenta um *boxplot* dos dados que compõe o conjunto analisado, suporta a conclusão exprimida, já que demonstra a ausência de *outliers*, assim como mostra que a maior parte dos dados encontra-se próximo a mediana (segundo quartil). Ainda com base na observação do *boxplot*, é possível denotar que essa métrica se revela (aparentemente) equidistante do primeiro quartil (que contém 25% dos dados) e do terceiro quartil (que abrange 75% dos dados)."
   ]
  },
  {
   "cell_type": "code",
   "execution_count": 29,
   "metadata": {},
   "outputs": [
    {
     "data": {
      "image/png": "[encoded data removed]",
      "text/plain": [
       "<Figure size 640x480 with 1 Axes>"
      ]
     },
     "metadata": {},
     "output_type": "display_data"
    }
   ],
   "source": [
    "eixo = sns.boxplot(y=df_energia[\"Storage_Efficiency_Percentage\"], color = \"SpringGreen\")\n",
    "eixo.set_xlabel(\"Eficiência de armazenamento (target)\")\n",
    "eixo.set_ylabel(\"Porcentagem\");"
   ]
  },
  {
   "cell_type": "markdown",
   "metadata": {},
   "source": [
    "[Gráfico 1: *Boxplot* do *taget* do projeto]"
   ]
  },
  {
   "cell_type": "code",
   "execution_count": null,
   "metadata": {},
   "outputs": [],
   "source": [
    "# df_energia_normalizado = df_energia.copy()\n",
    "# colunas_fixas = ['Type_of_Renewable_Energy', 'Grid_Integration_Level','Funding_Sources']\n",
    "# colunas_variaveis = df_energia_normalizado.columns.difference(colunas_fixas)\n",
    "\n",
    "# normalizador = StandardScaler()\n",
    "# df_energia_normalizado[colunas_variaveis] = normalizador.fit_transform(df_energia_normalizado[colunas_variaveis])\n",
    "# df_energia_normalizado"
   ]
  },
  {
   "cell_type": "code",
   "execution_count": null,
   "metadata": {},
   "outputs": [],
   "source": [
    "TARGET = \"Storage_Efficiency_Percentage\"\n",
    "FEATURES = [\n",
    "    \"Type_of_Renewable_Energy\",\n",
    "    \"Grid_Integration_Level\",\n",
    "    \"Funding_Sources\",\n",
    "    \"GHG_Emission_Reduction_tCO2e\",\n",
    "    \"Installed_Capacity_MW\",\n",
    "    \"Energy_Production_MWh\",\n",
    "    \"Energy_Consumption_MWh\",\n",
    "    \"Initial_Investment_USD\",\n",
    "    \"Air_Pollution_Reduction_Index\",\n",
    "\n",
    "]"
   ]
  },
  {
   "cell_type": "code",
   "execution_count": null,
   "metadata": {},
   "outputs": [],
   "source": []
  },
  {
   "cell_type": "code",
   "execution_count": null,
   "metadata": {},
   "outputs": [],
   "source": [
    "X = df_energia[FEATURES]  \n",
    "y = df_energia[TARGET] "
   ]
  },
  {
   "cell_type": "code",
   "execution_count": null,
   "metadata": {},
   "outputs": [],
   "source": [
    "X.describe(include = \"all\")"
   ]
  },
  {
   "cell_type": "code",
   "execution_count": null,
   "metadata": {},
   "outputs": [],
   "source": [
    "y.describe(include = \"all\")"
   ]
  },
  {
   "cell_type": "code",
   "execution_count": null,
   "metadata": {},
   "outputs": [],
   "source": [
    "X_valores = X.values\n",
    "y_valores = y.values"
   ]
  },
  {
   "cell_type": "code",
   "execution_count": null,
   "metadata": {},
   "outputs": [],
   "source": [
    "X_treino, X_teste, y_treino, y_teste = train_test_split(X_valores, y_valores, test_size=0.1, random_state=1249)\n"
   ]
  },
  {
   "cell_type": "markdown",
   "metadata": {},
   "source": [
    "## 📜 Referências"
   ]
  },
  {
   "cell_type": "markdown",
   "metadata": {},
   "source": [
    "[1] Programa das Nações Unidas para o Desenvolvimento. (2024, 25 de abril). What is the sustainable energy transition and why is it key to tackling climate change? Climate Promise. Recuperado de https://climatepromise.undp.org/news-and-stories/what-sustainable-energy-transition-and-why-it-key-tackling-climate-change\n",
    "\n",
    "[2] Organização das Nações Unidas. (s.d.). Renewable energy – Powering a safer future. Recuperado em 2 de junho de 2025, de https://www.un.org/en/climatechange/raising-ambition/renewable-energy\n",
    "\n",
    "[3] Ergun, S., Dik, A., Boukhanouf, R., & Omer, S. (2025). Large-Scale Renewable Energy Integration: Tackling Technical Obstacles and Exploring Energy Storage Innovations. Sustainability, 17(3), 1311. https://doi.org/10.3390/su17031311\n",
    "\n",
    "[4] Alabi, M. (2023). Integrating Machine Learning into Renewable Energy Systems for Better Forecasting. ResearchGate. https://www.researchgate.net/publication/384329216_Integrating_Machine_Learning_into_Renewable_Energy_Systems_for_Better_Forecasting\n",
    "\n",
    "[5] Alharbi, A. H., Khafaga, D. S., Zaki, A. M., M., S., Ibrahim, A., Abdelhamid, A. A., Eid, M. M., Khodadadi, N., Abualigah, L., & Saeed, M. A. (2024). Forecasting of energy efficiency in buildings using multilayer perceptron regressor with waterwheel plant algorithm hyperparameter. Frontiers in Energy Research, 12, 1393794. https://doi.org/10.3389/fenrg.2024.1393794\n",
    "\n",
    "[6] Kaggle. (2024). Renewable Energy Systems Data. https://www.kaggle.com/datasets/girumwondemagegn/dataset-for-renewable-energy-systems?select=energy_dataset_.csv. \n",
    "\n",
    "[7] Daniel Roberto Cassar. (2024). Jupyter Notebook LMA-203 1.0 - Estatística descritiva. [Material não publicado]."
   ]
  },
  {
   "cell_type": "markdown",
   "metadata": {},
   "source": []
  }
 ],
 "metadata": {
  "kernelspec": {
   "display_name": "ilumpy",
   "language": "python",
   "name": "ilumpy"
  },
  "language_info": {
   "codemirror_mode": {
    "name": "ipython",
    "version": 3
   },
   "file_extension": ".py",
   "mimetype": "text/x-python",
   "name": "python",
   "nbconvert_exporter": "python",
   "pygments_lexer": "ipython3",
   "version": "3.11.6"
  }
 },
 "nbformat": 4,
 "nbformat_minor": 2
}
