{
 "cells": [
  {
   "cell_type": "markdown",
   "metadata": {},
   "source": [
    "# Introdução:"
   ]
  },
  {
   "cell_type": "markdown",
   "metadata": {},
   "source": [
    "-Problema-\n",
    "A busca pela sustentabilidade vem crescendo cada vez mais no contexto atual de mudanças climáticas, com o uso de materiais poluentes e não degradáveis por grandes indústrias, o que afeta o ecossistema global. Nesse sentido, estudar sistemas renováveis, como as energias solares, hidroelétricas, entre outros, é de suma importância, visando compreender seus componentes e potencial para aplicação em larga escala, substituindo gradativamente as fontes não renováveis.\n",
    "\n",
    "Encontrar os parâmetros desses sistemas que maximizem sua eficiência\n",
    "\n",
    "#Explicar o trabalho, dataset, pré-processamento\n",
    "#Talvez usar GHG_Emission_Reduction_tCO2e como target tb, mais fácil de justificar e trabalhar, pode usar 2 #targets"
   ]
  },
  {
   "cell_type": "markdown",
   "metadata": {},
   "source": [
    "## Importações e definições:"
   ]
  },
  {
   "cell_type": "markdown",
   "metadata": {},
   "source": [
    "Começamos importando as bibliotecas necessárias:"
   ]
  },
  {
   "cell_type": "code",
   "execution_count": null,
   "metadata": {},
   "outputs": [],
   "source": [
    "import pandas as pd\n",
    "import numpy as np\n",
    "import os\n",
    "import statistics as st\n",
    "\n",
    "from sklearn.model_selection import train_test_split\n",
    "from sklearn.preprocessing import StandardScaler\n",
    "from sklearn.metrics import mean_squared_error\n",
    "\n",
    "import torch\n",
    "import torch.nn as nn\n",
    "import torch.optim as optim\n"
   ]
  },
  {
   "cell_type": "markdown",
   "metadata": {},
   "source": [
    "Em seguida, iremos importar o dataset a ser utilizado, removendo valores faltantes e exibindo-o em seguida."
   ]
  },
  {
   "cell_type": "code",
   "execution_count": null,
   "metadata": {},
   "outputs": [],
   "source": [
    "df_energia = pd.read_csv('energy_dataset_.csv')\n",
    "df_energia = df_energia.dropna()\n",
    "df_energia"
   ]
  },
  {
   "cell_type": "markdown",
   "metadata": {},
   "source": [
    "### 🔍 Características das Features"
   ]
  },
  {
   "cell_type": "markdown",
   "metadata": {},
   "source": [
    "🔋 `Type_of_Renewable_Energy`:\n",
    "\n",
    "Tipo de fonte de energia renovável (dados categóricos):\n",
    "\n",
    "- `1`: ☀️ Solar  \n",
    "- `2`: 🌬️ Wind (Eólica)  \n",
    "- `3`: 💧 Hydroelectric (Hidroelétrica)  \n",
    "- `4`: 🌋 Geothermal (Geotermal)  \n",
    "- `5`: 🌿 Biomass (Biomassa)  \n",
    "- `6`: 🌊 Tidal (Maré)  \n",
    "- `7`: 🌊 Wave (Ondas)\n",
    "\n",
    "\n",
    "⚡ `Installed_Capacity_MW`:\n",
    "\n",
    "Capacidade instalada em Megawatts (MW)\n",
    "\n",
    "\n",
    "🔌 `Energy_Production_MWh`:\n",
    "\n",
    "Produção anual de energia em Megawatts-hora (MWh)\n",
    "\n",
    "\n",
    "\n",
    "🔋 `Energy_Consumption_MWh`:\n",
    "\n",
    "Consumo anual de energia em Megawatts-hora (MWh)\n",
    "\n",
    "\n",
    "\n",
    "🏗️ `Grid_Integration_Level`:\n",
    "\n",
    "Nível de integração com a rede elétrica (dados categóricos):\n",
    "\n",
    "- `1`: ✅ Fully Integrated (Totalmente integrada)  \n",
    "- `2`: ⚠️ Partially Integrated (Parcialmente integrada)  \n",
    "- `3`: 🔻 Minimal Integration (Integração mínima)  \n",
    "- `4`: 🔌 Isolated Microgrid (Microrrede isolada)\n",
    "\n",
    "\n",
    "\n",
    "💰 `Founding_Sources`:\n",
    "\n",
    "Fonte de investimento (dados categóricos):\n",
    "\n",
    "- `1`: 🏛️ Government (Governamental)  \n",
    "- `2`: 🏢 Private (Privada)  \n",
    "- `3`: 🤝 Public-Private Partnership (Colaboração Público e Privado)\n",
    "\n",
    "\n",
    "\n",
    "💵 `Inicial_Investiment_USD`:\n",
    "\n",
    "Investimento inicial em dólares (USD)\n",
    "\n",
    "\n",
    "\n",
    "🌱 `GHG_Emission_Reduction_tCO2e`:\n",
    "\n",
    "Redução das emissões de gases de efeito estufa (tCO2e)\n",
    "\n",
    "\n",
    "🌬️ `Air_Pollution_Reduction_Index`:\n",
    "\n",
    "Índice de redução da poluição do ar\n"
   ]
  },
  {
   "cell_type": "markdown",
   "metadata": {},
   "source": [
    "### 🔎 Caracterísitcas do Target"
   ]
  },
  {
   "cell_type": "markdown",
   "metadata": {},
   "source": [
    "🔌 `Storage_Efficiency_Percentage`: \n",
    "     \n",
    "Eficiência de armazenamento de energia em porcentagem\n"
   ]
  },
  {
   "cell_type": "markdown",
   "metadata": {},
   "source": [
    "### 🕵️ Explorando o Dataset"
   ]
  },
  {
   "cell_type": "markdown",
   "metadata": {},
   "source": [
    "Em um primeiro momento, é interessante investigar os dados que compreendem o *target* do projeto, isto é, a porcentagem de eficiência de armazenamento de energia (Storage_Efficiency_Percentage), visando uma melhor compreensão de sua distribuição, bem como de como se comportam. Nesse sentido, utilizando a biblioteca `statistics`, algumas estatísticas descritivas dos dados serão analisadas. Dentre elas, encontra-se a média, a mediana, o desvio-padrão e os valores mínimo e máximo, com o intuito de analisar a tendência dos dados a serem previstos, bem como a distribuição deles. [1]"
   ]
  },
  {
   "cell_type": "markdown",
   "metadata": {},
   "source": [
    "#### 🌘 Média"
   ]
  },
  {
   "cell_type": "markdown",
   "metadata": {},
   "source": [
    "A média é calculada a partir da divisão da soma de todos os elementos que compõe uma variável aleatória pela quantidade total de termos. Essa estatística nos fornece uma tendência central dos valores da variável analisada."
   ]
  },
  {
   "cell_type": "markdown",
   "metadata": {},
   "source": [
    "$$\n",
    "\\mu = \\frac{1}{N} \\sum_{i=1}^{N} X_i\n",
    "$$\n",
    "\n",
    "[Fórmula 1: Cálculo da média]"
   ]
  },
  {
   "cell_type": "code",
   "execution_count": null,
   "metadata": {},
   "outputs": [],
   "source": [
    "media_target = st.mean(df_energia[\"Storage_Efficiency_Percentage\"])\n",
    "print(f'A média da porcentagem de eficiência energético é igual a {media_target}.')"
   ]
  },
  {
   "cell_type": "markdown",
   "metadata": {},
   "source": [
    "#### 🌖 Mediana"
   ]
  },
  {
   "cell_type": "markdown",
   "metadata": {},
   "source": [
    "A mediana consiste em uma estatística que apresenta o valor que segrega a variável aleatória na metade, isto é, em dois grupos de mesmo tamanho, compreendendo o valor central da variável analisada. Por não ser influenciada por valores discrepantes que compõe o conjunto explorado - os famosos *outliers*, a mediana compreende uma métrica mais robusta para compreender a tendência central dos dados, sobretudo quanto possuímos variáveis aleatórias com *outliers*."
   ]
  },
  {
   "cell_type": "code",
   "execution_count": null,
   "metadata": {},
   "outputs": [],
   "source": [
    "mediana_target = st.median(df_energia[\"Storage_Efficiency_Percentage\"])\n",
    "print(f'A mediana da porcentagem de eficiência energético é igual a {mediana_target}.')"
   ]
  },
  {
   "cell_type": "markdown",
   "metadata": {},
   "source": [
    "#### 🌗 Desvio-padrão"
   ]
  },
  {
   "cell_type": "markdown",
   "metadata": {},
   "source": [
    "O desvio-padrão compreende o quão distante da média se encontram os valores que compõe a variável aleatória analisada."
   ]
  },
  {
   "cell_type": "markdown",
   "metadata": {},
   "source": [
    "$$\n",
    "\\sigma = \\sqrt{\\mathrm{Var(X)}} =  \\sqrt{\\frac{1}{N} \\sum_{i=1}^{N} (X_i - \\mu)^2}\n",
    "$$\n",
    "\n",
    "[Fórmula 2: Cálculo do desvio-padrão]"
   ]
  },
  {
   "cell_type": "markdown",
   "metadata": {},
   "source": [
    "#### 🌕 Valores Mínimo e Máximo "
   ]
  },
  {
   "cell_type": "markdown",
   "metadata": {},
   "source": []
  },
  {
   "cell_type": "markdown",
   "metadata": {},
   "source": []
  },
  {
   "cell_type": "code",
   "execution_count": null,
   "metadata": {},
   "outputs": [],
   "source": []
  },
  {
   "cell_type": "code",
   "execution_count": null,
   "metadata": {},
   "outputs": [],
   "source": [
    "df_energia.describe(include = \"all\")"
   ]
  },
  {
   "cell_type": "code",
   "execution_count": null,
   "metadata": {},
   "outputs": [],
   "source": []
  },
  {
   "cell_type": "markdown",
   "metadata": {},
   "source": []
  },
  {
   "cell_type": "code",
   "execution_count": null,
   "metadata": {},
   "outputs": [],
   "source": [
    "print('a')"
   ]
  },
  {
   "cell_type": "code",
   "execution_count": null,
   "metadata": {},
   "outputs": [],
   "source": [
    "# df_energia_normalizado = df_energia.copy()\n",
    "# colunas_fixas = ['Type_of_Renewable_Energy', 'Grid_Integration_Level','Funding_Sources']\n",
    "# colunas_variaveis = df_energia_normalizado.columns.difference(colunas_fixas)\n",
    "\n",
    "# normalizador = StandardScaler()\n",
    "# df_energia_normalizado[colunas_variaveis] = normalizador.fit_transform(df_energia_normalizado[colunas_variaveis])\n",
    "# df_energia_normalizado"
   ]
  },
  {
   "cell_type": "code",
   "execution_count": null,
   "metadata": {},
   "outputs": [],
   "source": [
    "TARGET = \"Storage_Efficiency_Percentage\"\n",
    "FEATURES = [\n",
    "    \"Type_of_Renewable_Energy\",\n",
    "    \"Grid_Integration_Level\",\n",
    "    \"Funding_Sources\",\n",
    "    \"GHG_Emission_Reduction_tCO2e\",\n",
    "    \"Installed_Capacity_MW\",\n",
    "    \"Energy_Production_MWh\",\n",
    "    \"Energy_Consumption_MWh\",\n",
    "    \"Initial_Investment_USD\",\n",
    "    \"Air_Pollution_Reduction_Index\",\n",
    "\n",
    "]"
   ]
  },
  {
   "cell_type": "code",
   "execution_count": null,
   "metadata": {},
   "outputs": [],
   "source": []
  },
  {
   "cell_type": "code",
   "execution_count": null,
   "metadata": {},
   "outputs": [],
   "source": [
    "X = df_energia[FEATURES]  \n",
    "y = df_energia[TARGET] "
   ]
  },
  {
   "cell_type": "code",
   "execution_count": null,
   "metadata": {},
   "outputs": [],
   "source": [
    "X.describe(include = \"all\")"
   ]
  },
  {
   "cell_type": "code",
   "execution_count": null,
   "metadata": {},
   "outputs": [],
   "source": [
    "y.describe(include = \"all\")"
   ]
  },
  {
   "cell_type": "code",
   "execution_count": null,
   "metadata": {},
   "outputs": [],
   "source": [
    "X_valores = X.values\n",
    "y_valores = y.values"
   ]
  },
  {
   "cell_type": "code",
   "execution_count": null,
   "metadata": {},
   "outputs": [],
   "source": [
    "X_treino, X_teste, y_treino, y_teste = train_test_split(X_valores, y_valores, test_size=0.1, random_state=1249)\n"
   ]
  },
  {
   "cell_type": "markdown",
   "metadata": {},
   "source": [
    "## 📜 Referências"
   ]
  },
  {
   "cell_type": "markdown",
   "metadata": {},
   "source": [
    "[1] Daniel Roberto Cassar. (2024). Jupyter Notebook LMA-203 1.0 - Estatística descritiva. [Material não publicado]."
   ]
  },
  {
   "cell_type": "markdown",
   "metadata": {},
   "source": []
  }
 ],
 "metadata": {
  "kernelspec": {
   "display_name": "Python 3",
   "language": "python",
   "name": "python3"
  },
  "language_info": {
   "codemirror_mode": {
    "name": "ipython",
    "version": 3
   },
   "file_extension": ".py",
   "mimetype": "text/x-python",
   "name": "python",
   "nbconvert_exporter": "python",
   "pygments_lexer": "ipython3",
   "version": "3.11.6"
  }
 },
 "nbformat": 4,
 "nbformat_minor": 2
}
